{
 "cells": [
  {
   "cell_type": "code",
   "execution_count": 2,
   "id": "79e6d9d8-9991-4a0a-b16f-d4436bc81da7",
   "metadata": {
    "id": "79e6d9d8-9991-4a0a-b16f-d4436bc81da7"
   },
   "outputs": [],
   "source": [
    "# pip install -U transformers: شامل مدل های از پیش آموزش داده شده برای پردازش زبان طبیعی است\n",
    "# pip install -U accelerate: برای مدیریت منابع سخت افزاری است مانند پردازنده های گرافیکی و بهینه سازی مدیریت عملکرد مدل ها هست\n",
    "# pip install -U datasets: شامل دیتاست های آماده می باشد\n",
    "# pip install -U bertviz: نحوه ارتباط بین کلمات و جملات در هر لایه BERT را نمایش می دهد\n",
    "# pip install -U umap-learn: برای کاهش ابعاد می باشد\n",
    "# pip install seaborn --upgrade: برای رسم و نمایش نمودارها می باشد"
   ]
  },
  {
   "cell_type": "code",
   "execution_count": 3,
   "id": "zp3Ck9o-eI_t",
   "metadata": {
    "colab": {
     "base_uri": "https://localhost:8080/"
    },
    "id": "zp3Ck9o-eI_t",
    "outputId": "ea63de79-262c-4751-b960-90602779fbbb"
   },
   "outputs": [
    {
     "name": "stdout",
     "output_type": "stream",
     "text": [
      "Requirement already satisfied: datasets in /usr/local/lib/python3.10/dist-packages (3.1.0)\n",
      "Requirement already satisfied: filelock in /usr/local/lib/python3.10/dist-packages (from datasets) (3.16.1)\n",
      "Requirement already satisfied: numpy>=1.17 in /usr/local/lib/python3.10/dist-packages (from datasets) (1.26.4)\n",
      "Requirement already satisfied: pyarrow>=15.0.0 in /usr/local/lib/python3.10/dist-packages (from datasets) (17.0.0)\n",
      "Requirement already satisfied: dill<0.3.9,>=0.3.0 in /usr/local/lib/python3.10/dist-packages (from datasets) (0.3.8)\n",
      "Requirement already satisfied: pandas in /usr/local/lib/python3.10/dist-packages (from datasets) (2.2.2)\n",
      "Requirement already satisfied: requests>=2.32.2 in /usr/local/lib/python3.10/dist-packages (from datasets) (2.32.3)\n",
      "Requirement already satisfied: tqdm>=4.66.3 in /usr/local/lib/python3.10/dist-packages (from datasets) (4.66.6)\n",
      "Requirement already satisfied: xxhash in /usr/local/lib/python3.10/dist-packages (from datasets) (3.5.0)\n",
      "Requirement already satisfied: multiprocess<0.70.17 in /usr/local/lib/python3.10/dist-packages (from datasets) (0.70.16)\n",
      "Requirement already satisfied: fsspec<=2024.9.0,>=2023.1.0 in /usr/local/lib/python3.10/dist-packages (from fsspec[http]<=2024.9.0,>=2023.1.0->datasets) (2024.9.0)\n",
      "Requirement already satisfied: aiohttp in /usr/local/lib/python3.10/dist-packages (from datasets) (3.10.10)\n",
      "Requirement already satisfied: huggingface-hub>=0.23.0 in /usr/local/lib/python3.10/dist-packages (from datasets) (0.24.7)\n",
      "Requirement already satisfied: packaging in /usr/local/lib/python3.10/dist-packages (from datasets) (24.1)\n",
      "Requirement already satisfied: pyyaml>=5.1 in /usr/local/lib/python3.10/dist-packages (from datasets) (6.0.2)\n",
      "Requirement already satisfied: aiohappyeyeballs>=2.3.0 in /usr/local/lib/python3.10/dist-packages (from aiohttp->datasets) (2.4.3)\n",
      "Requirement already satisfied: aiosignal>=1.1.2 in /usr/local/lib/python3.10/dist-packages (from aiohttp->datasets) (1.3.1)\n",
      "Requirement already satisfied: attrs>=17.3.0 in /usr/local/lib/python3.10/dist-packages (from aiohttp->datasets) (24.2.0)\n",
      "Requirement already satisfied: frozenlist>=1.1.1 in /usr/local/lib/python3.10/dist-packages (from aiohttp->datasets) (1.5.0)\n",
      "Requirement already satisfied: multidict<7.0,>=4.5 in /usr/local/lib/python3.10/dist-packages (from aiohttp->datasets) (6.1.0)\n",
      "Requirement already satisfied: yarl<2.0,>=1.12.0 in /usr/local/lib/python3.10/dist-packages (from aiohttp->datasets) (1.17.0)\n",
      "Requirement already satisfied: async-timeout<5.0,>=4.0 in /usr/local/lib/python3.10/dist-packages (from aiohttp->datasets) (4.0.3)\n",
      "Requirement already satisfied: typing-extensions>=3.7.4.3 in /usr/local/lib/python3.10/dist-packages (from huggingface-hub>=0.23.0->datasets) (4.12.2)\n",
      "Requirement already satisfied: charset-normalizer<4,>=2 in /usr/local/lib/python3.10/dist-packages (from requests>=2.32.2->datasets) (3.4.0)\n",
      "Requirement already satisfied: idna<4,>=2.5 in /usr/local/lib/python3.10/dist-packages (from requests>=2.32.2->datasets) (3.10)\n",
      "Requirement already satisfied: urllib3<3,>=1.21.1 in /usr/local/lib/python3.10/dist-packages (from requests>=2.32.2->datasets) (2.2.3)\n",
      "Requirement already satisfied: certifi>=2017.4.17 in /usr/local/lib/python3.10/dist-packages (from requests>=2.32.2->datasets) (2024.8.30)\n",
      "Requirement already satisfied: python-dateutil>=2.8.2 in /usr/local/lib/python3.10/dist-packages (from pandas->datasets) (2.8.2)\n",
      "Requirement already satisfied: pytz>=2020.1 in /usr/local/lib/python3.10/dist-packages (from pandas->datasets) (2024.2)\n",
      "Requirement already satisfied: tzdata>=2022.7 in /usr/local/lib/python3.10/dist-packages (from pandas->datasets) (2024.2)\n",
      "Requirement already satisfied: six>=1.5 in /usr/local/lib/python3.10/dist-packages (from python-dateutil>=2.8.2->pandas->datasets) (1.16.0)\n",
      "Requirement already satisfied: propcache>=0.2.0 in /usr/local/lib/python3.10/dist-packages (from yarl<2.0,>=1.12.0->aiohttp->datasets) (0.2.0)\n"
     ]
    }
   ],
   "source": [
    "!pip install datasets"
   ]
  },
  {
   "cell_type": "code",
   "execution_count": 4,
   "id": "KyIVpYFCgUjy",
   "metadata": {
    "colab": {
     "base_uri": "https://localhost:8080/"
    },
    "id": "KyIVpYFCgUjy",
    "outputId": "02998df8-d2da-4b1d-b7bc-6630a6659c71"
   },
   "outputs": [
    {
     "name": "stdout",
     "output_type": "stream",
     "text": [
      "Requirement already satisfied: evaluate in /usr/local/lib/python3.10/dist-packages (0.4.3)\n",
      "Requirement already satisfied: datasets>=2.0.0 in /usr/local/lib/python3.10/dist-packages (from evaluate) (3.1.0)\n",
      "Requirement already satisfied: numpy>=1.17 in /usr/local/lib/python3.10/dist-packages (from evaluate) (1.26.4)\n",
      "Requirement already satisfied: dill in /usr/local/lib/python3.10/dist-packages (from evaluate) (0.3.8)\n",
      "Requirement already satisfied: pandas in /usr/local/lib/python3.10/dist-packages (from evaluate) (2.2.2)\n",
      "Requirement already satisfied: requests>=2.19.0 in /usr/local/lib/python3.10/dist-packages (from evaluate) (2.32.3)\n",
      "Requirement already satisfied: tqdm>=4.62.1 in /usr/local/lib/python3.10/dist-packages (from evaluate) (4.66.6)\n",
      "Requirement already satisfied: xxhash in /usr/local/lib/python3.10/dist-packages (from evaluate) (3.5.0)\n",
      "Requirement already satisfied: multiprocess in /usr/local/lib/python3.10/dist-packages (from evaluate) (0.70.16)\n",
      "Requirement already satisfied: fsspec>=2021.05.0 in /usr/local/lib/python3.10/dist-packages (from fsspec[http]>=2021.05.0->evaluate) (2024.9.0)\n",
      "Requirement already satisfied: huggingface-hub>=0.7.0 in /usr/local/lib/python3.10/dist-packages (from evaluate) (0.24.7)\n",
      "Requirement already satisfied: packaging in /usr/local/lib/python3.10/dist-packages (from evaluate) (24.1)\n",
      "Requirement already satisfied: filelock in /usr/local/lib/python3.10/dist-packages (from datasets>=2.0.0->evaluate) (3.16.1)\n",
      "Requirement already satisfied: pyarrow>=15.0.0 in /usr/local/lib/python3.10/dist-packages (from datasets>=2.0.0->evaluate) (17.0.0)\n",
      "Requirement already satisfied: aiohttp in /usr/local/lib/python3.10/dist-packages (from datasets>=2.0.0->evaluate) (3.10.10)\n",
      "Requirement already satisfied: pyyaml>=5.1 in /usr/local/lib/python3.10/dist-packages (from datasets>=2.0.0->evaluate) (6.0.2)\n",
      "Requirement already satisfied: typing-extensions>=3.7.4.3 in /usr/local/lib/python3.10/dist-packages (from huggingface-hub>=0.7.0->evaluate) (4.12.2)\n",
      "Requirement already satisfied: charset-normalizer<4,>=2 in /usr/local/lib/python3.10/dist-packages (from requests>=2.19.0->evaluate) (3.4.0)\n",
      "Requirement already satisfied: idna<4,>=2.5 in /usr/local/lib/python3.10/dist-packages (from requests>=2.19.0->evaluate) (3.10)\n",
      "Requirement already satisfied: urllib3<3,>=1.21.1 in /usr/local/lib/python3.10/dist-packages (from requests>=2.19.0->evaluate) (2.2.3)\n",
      "Requirement already satisfied: certifi>=2017.4.17 in /usr/local/lib/python3.10/dist-packages (from requests>=2.19.0->evaluate) (2024.8.30)\n",
      "Requirement already satisfied: python-dateutil>=2.8.2 in /usr/local/lib/python3.10/dist-packages (from pandas->evaluate) (2.8.2)\n",
      "Requirement already satisfied: pytz>=2020.1 in /usr/local/lib/python3.10/dist-packages (from pandas->evaluate) (2024.2)\n",
      "Requirement already satisfied: tzdata>=2022.7 in /usr/local/lib/python3.10/dist-packages (from pandas->evaluate) (2024.2)\n",
      "Requirement already satisfied: aiohappyeyeballs>=2.3.0 in /usr/local/lib/python3.10/dist-packages (from aiohttp->datasets>=2.0.0->evaluate) (2.4.3)\n",
      "Requirement already satisfied: aiosignal>=1.1.2 in /usr/local/lib/python3.10/dist-packages (from aiohttp->datasets>=2.0.0->evaluate) (1.3.1)\n",
      "Requirement already satisfied: attrs>=17.3.0 in /usr/local/lib/python3.10/dist-packages (from aiohttp->datasets>=2.0.0->evaluate) (24.2.0)\n",
      "Requirement already satisfied: frozenlist>=1.1.1 in /usr/local/lib/python3.10/dist-packages (from aiohttp->datasets>=2.0.0->evaluate) (1.5.0)\n",
      "Requirement already satisfied: multidict<7.0,>=4.5 in /usr/local/lib/python3.10/dist-packages (from aiohttp->datasets>=2.0.0->evaluate) (6.1.0)\n",
      "Requirement already satisfied: yarl<2.0,>=1.12.0 in /usr/local/lib/python3.10/dist-packages (from aiohttp->datasets>=2.0.0->evaluate) (1.17.0)\n",
      "Requirement already satisfied: async-timeout<5.0,>=4.0 in /usr/local/lib/python3.10/dist-packages (from aiohttp->datasets>=2.0.0->evaluate) (4.0.3)\n",
      "Requirement already satisfied: six>=1.5 in /usr/local/lib/python3.10/dist-packages (from python-dateutil>=2.8.2->pandas->evaluate) (1.16.0)\n",
      "Requirement already satisfied: propcache>=0.2.0 in /usr/local/lib/python3.10/dist-packages (from yarl<2.0,>=1.12.0->aiohttp->datasets>=2.0.0->evaluate) (0.2.0)\n"
     ]
    }
   ],
   "source": [
    "!pip install evaluate"
   ]
  },
  {
   "cell_type": "code",
   "execution_count": 5,
   "id": "31ed6f33-d8bc-41f0-a21a-7341957ede6c",
   "metadata": {
    "id": "31ed6f33-d8bc-41f0-a21a-7341957ede6c"
   },
   "outputs": [],
   "source": [
    "import numpy as np\n",
    "import pandas as pd\n",
    "import matplotlib.pyplot as plt\n",
    "import seaborn as sns\n",
    "from transformers import AutoTokenizer  # این کلاس می‌تواند توکن‌ساز مناسب را بر اساس مدل انتخاب شده فراهم کند\n",
    "from sklearn.model_selection import train_test_split\n",
    "from datasets import Dataset, DatasetDict\n",
    "from transformers import AutoModel\n",
    "import torch\n",
    "import evaluate # برای محاسبه معیار ارزیابی مدل\n",
    "from sklearn.metrics import accuracy_score, f1_score\n",
    "import tensorflow\n",
    "from tensorflow import keras\n",
    "from keras.layers import Dense"
   ]
  },
  {
   "cell_type": "code",
   "execution_count": 30,
   "id": "cc6ec630-90a8-454d-8835-2341541d0b3d",
   "metadata": {
    "colab": {
     "base_uri": "https://localhost:8080/",
     "height": 206
    },
    "id": "cc6ec630-90a8-454d-8835-2341541d0b3d",
    "outputId": "e7da690e-b152-48e8-80e0-ed85612c2ffc"
   },
   "outputs": [
    {
     "data": {
      "application/vnd.google.colaboratory.intrinsic+json": {
       "summary": "{\n  \"name\": \"data\",\n  \"rows\": 16000,\n  \"fields\": [\n    {\n      \"column\": \"text\",\n      \"properties\": {\n        \"dtype\": \"string\",\n        \"num_unique_values\": 15969,\n        \"samples\": [\n          \"i feel rather imbicilic or at least complacent\",\n          \"i was in the bathroom i had sat down to pee it was to make me feel submissive again per instructions\",\n          \"i am thrilled with the way my skin and hair feel if you are like me you are skeptical\"\n        ],\n        \"semantic_type\": \"\",\n        \"description\": \"\"\n      }\n    },\n    {\n      \"column\": \"label\",\n      \"properties\": {\n        \"dtype\": \"number\",\n        \"std\": 1,\n        \"min\": 0,\n        \"max\": 5,\n        \"num_unique_values\": 6,\n        \"samples\": [\n          0,\n          3,\n          1\n        ],\n        \"semantic_type\": \"\",\n        \"description\": \"\"\n      }\n    },\n    {\n      \"column\": \"label_name\",\n      \"properties\": {\n        \"dtype\": \"category\",\n        \"num_unique_values\": 6,\n        \"samples\": [\n          \"sadness\",\n          \"anger\",\n          \"joy\"\n        ],\n        \"semantic_type\": \"\",\n        \"description\": \"\"\n      }\n    }\n  ]\n}",
       "type": "dataframe",
       "variable_name": "data"
      },
      "text/html": [
       "\n",
       "  <div id=\"df-46ff334b-f67d-4302-9522-723d1181f697\" class=\"colab-df-container\">\n",
       "    <div>\n",
       "<style scoped>\n",
       "    .dataframe tbody tr th:only-of-type {\n",
       "        vertical-align: middle;\n",
       "    }\n",
       "\n",
       "    .dataframe tbody tr th {\n",
       "        vertical-align: top;\n",
       "    }\n",
       "\n",
       "    .dataframe thead th {\n",
       "        text-align: right;\n",
       "    }\n",
       "</style>\n",
       "<table border=\"1\" class=\"dataframe\">\n",
       "  <thead>\n",
       "    <tr style=\"text-align: right;\">\n",
       "      <th></th>\n",
       "      <th>text</th>\n",
       "      <th>label</th>\n",
       "      <th>label_name</th>\n",
       "    </tr>\n",
       "  </thead>\n",
       "  <tbody>\n",
       "    <tr>\n",
       "      <th>0</th>\n",
       "      <td>i didnt feel humiliated</td>\n",
       "      <td>0</td>\n",
       "      <td>sadness</td>\n",
       "    </tr>\n",
       "    <tr>\n",
       "      <th>1</th>\n",
       "      <td>i can go from feeling so hopeless to so damned...</td>\n",
       "      <td>0</td>\n",
       "      <td>sadness</td>\n",
       "    </tr>\n",
       "    <tr>\n",
       "      <th>2</th>\n",
       "      <td>im grabbing a minute to post i feel greedy wrong</td>\n",
       "      <td>3</td>\n",
       "      <td>anger</td>\n",
       "    </tr>\n",
       "    <tr>\n",
       "      <th>3</th>\n",
       "      <td>i am ever feeling nostalgic about the fireplac...</td>\n",
       "      <td>2</td>\n",
       "      <td>love</td>\n",
       "    </tr>\n",
       "    <tr>\n",
       "      <th>4</th>\n",
       "      <td>i am feeling grouchy</td>\n",
       "      <td>3</td>\n",
       "      <td>anger</td>\n",
       "    </tr>\n",
       "  </tbody>\n",
       "</table>\n",
       "</div>\n",
       "    <div class=\"colab-df-buttons\">\n",
       "\n",
       "  <div class=\"colab-df-container\">\n",
       "    <button class=\"colab-df-convert\" onclick=\"convertToInteractive('df-46ff334b-f67d-4302-9522-723d1181f697')\"\n",
       "            title=\"Convert this dataframe to an interactive table.\"\n",
       "            style=\"display:none;\">\n",
       "\n",
       "  <svg xmlns=\"http://www.w3.org/2000/svg\" height=\"24px\" viewBox=\"0 -960 960 960\">\n",
       "    <path d=\"M120-120v-720h720v720H120Zm60-500h600v-160H180v160Zm220 220h160v-160H400v160Zm0 220h160v-160H400v160ZM180-400h160v-160H180v160Zm440 0h160v-160H620v160ZM180-180h160v-160H180v160Zm440 0h160v-160H620v160Z\"/>\n",
       "  </svg>\n",
       "    </button>\n",
       "\n",
       "  <style>\n",
       "    .colab-df-container {\n",
       "      display:flex;\n",
       "      gap: 12px;\n",
       "    }\n",
       "\n",
       "    .colab-df-convert {\n",
       "      background-color: #E8F0FE;\n",
       "      border: none;\n",
       "      border-radius: 50%;\n",
       "      cursor: pointer;\n",
       "      display: none;\n",
       "      fill: #1967D2;\n",
       "      height: 32px;\n",
       "      padding: 0 0 0 0;\n",
       "      width: 32px;\n",
       "    }\n",
       "\n",
       "    .colab-df-convert:hover {\n",
       "      background-color: #E2EBFA;\n",
       "      box-shadow: 0px 1px 2px rgba(60, 64, 67, 0.3), 0px 1px 3px 1px rgba(60, 64, 67, 0.15);\n",
       "      fill: #174EA6;\n",
       "    }\n",
       "\n",
       "    .colab-df-buttons div {\n",
       "      margin-bottom: 4px;\n",
       "    }\n",
       "\n",
       "    [theme=dark] .colab-df-convert {\n",
       "      background-color: #3B4455;\n",
       "      fill: #D2E3FC;\n",
       "    }\n",
       "\n",
       "    [theme=dark] .colab-df-convert:hover {\n",
       "      background-color: #434B5C;\n",
       "      box-shadow: 0px 1px 3px 1px rgba(0, 0, 0, 0.15);\n",
       "      filter: drop-shadow(0px 1px 2px rgba(0, 0, 0, 0.3));\n",
       "      fill: #FFFFFF;\n",
       "    }\n",
       "  </style>\n",
       "\n",
       "    <script>\n",
       "      const buttonEl =\n",
       "        document.querySelector('#df-46ff334b-f67d-4302-9522-723d1181f697 button.colab-df-convert');\n",
       "      buttonEl.style.display =\n",
       "        google.colab.kernel.accessAllowed ? 'block' : 'none';\n",
       "\n",
       "      async function convertToInteractive(key) {\n",
       "        const element = document.querySelector('#df-46ff334b-f67d-4302-9522-723d1181f697');\n",
       "        const dataTable =\n",
       "          await google.colab.kernel.invokeFunction('convertToInteractive',\n",
       "                                                    [key], {});\n",
       "        if (!dataTable) return;\n",
       "\n",
       "        const docLinkHtml = 'Like what you see? Visit the ' +\n",
       "          '<a target=\"_blank\" href=https://colab.research.google.com/notebooks/data_table.ipynb>data table notebook</a>'\n",
       "          + ' to learn more about interactive tables.';\n",
       "        element.innerHTML = '';\n",
       "        dataTable['output_type'] = 'display_data';\n",
       "        await google.colab.output.renderOutput(dataTable, element);\n",
       "        const docLink = document.createElement('div');\n",
       "        docLink.innerHTML = docLinkHtml;\n",
       "        element.appendChild(docLink);\n",
       "      }\n",
       "    </script>\n",
       "  </div>\n",
       "\n",
       "\n",
       "<div id=\"df-564636a7-7770-46eb-a300-ae57c257a9e2\">\n",
       "  <button class=\"colab-df-quickchart\" onclick=\"quickchart('df-564636a7-7770-46eb-a300-ae57c257a9e2')\"\n",
       "            title=\"Suggest charts\"\n",
       "            style=\"display:none;\">\n",
       "\n",
       "<svg xmlns=\"http://www.w3.org/2000/svg\" height=\"24px\"viewBox=\"0 0 24 24\"\n",
       "     width=\"24px\">\n",
       "    <g>\n",
       "        <path d=\"M19 3H5c-1.1 0-2 .9-2 2v14c0 1.1.9 2 2 2h14c1.1 0 2-.9 2-2V5c0-1.1-.9-2-2-2zM9 17H7v-7h2v7zm4 0h-2V7h2v10zm4 0h-2v-4h2v4z\"/>\n",
       "    </g>\n",
       "</svg>\n",
       "  </button>\n",
       "\n",
       "<style>\n",
       "  .colab-df-quickchart {\n",
       "      --bg-color: #E8F0FE;\n",
       "      --fill-color: #1967D2;\n",
       "      --hover-bg-color: #E2EBFA;\n",
       "      --hover-fill-color: #174EA6;\n",
       "      --disabled-fill-color: #AAA;\n",
       "      --disabled-bg-color: #DDD;\n",
       "  }\n",
       "\n",
       "  [theme=dark] .colab-df-quickchart {\n",
       "      --bg-color: #3B4455;\n",
       "      --fill-color: #D2E3FC;\n",
       "      --hover-bg-color: #434B5C;\n",
       "      --hover-fill-color: #FFFFFF;\n",
       "      --disabled-bg-color: #3B4455;\n",
       "      --disabled-fill-color: #666;\n",
       "  }\n",
       "\n",
       "  .colab-df-quickchart {\n",
       "    background-color: var(--bg-color);\n",
       "    border: none;\n",
       "    border-radius: 50%;\n",
       "    cursor: pointer;\n",
       "    display: none;\n",
       "    fill: var(--fill-color);\n",
       "    height: 32px;\n",
       "    padding: 0;\n",
       "    width: 32px;\n",
       "  }\n",
       "\n",
       "  .colab-df-quickchart:hover {\n",
       "    background-color: var(--hover-bg-color);\n",
       "    box-shadow: 0 1px 2px rgba(60, 64, 67, 0.3), 0 1px 3px 1px rgba(60, 64, 67, 0.15);\n",
       "    fill: var(--button-hover-fill-color);\n",
       "  }\n",
       "\n",
       "  .colab-df-quickchart-complete:disabled,\n",
       "  .colab-df-quickchart-complete:disabled:hover {\n",
       "    background-color: var(--disabled-bg-color);\n",
       "    fill: var(--disabled-fill-color);\n",
       "    box-shadow: none;\n",
       "  }\n",
       "\n",
       "  .colab-df-spinner {\n",
       "    border: 2px solid var(--fill-color);\n",
       "    border-color: transparent;\n",
       "    border-bottom-color: var(--fill-color);\n",
       "    animation:\n",
       "      spin 1s steps(1) infinite;\n",
       "  }\n",
       "\n",
       "  @keyframes spin {\n",
       "    0% {\n",
       "      border-color: transparent;\n",
       "      border-bottom-color: var(--fill-color);\n",
       "      border-left-color: var(--fill-color);\n",
       "    }\n",
       "    20% {\n",
       "      border-color: transparent;\n",
       "      border-left-color: var(--fill-color);\n",
       "      border-top-color: var(--fill-color);\n",
       "    }\n",
       "    30% {\n",
       "      border-color: transparent;\n",
       "      border-left-color: var(--fill-color);\n",
       "      border-top-color: var(--fill-color);\n",
       "      border-right-color: var(--fill-color);\n",
       "    }\n",
       "    40% {\n",
       "      border-color: transparent;\n",
       "      border-right-color: var(--fill-color);\n",
       "      border-top-color: var(--fill-color);\n",
       "    }\n",
       "    60% {\n",
       "      border-color: transparent;\n",
       "      border-right-color: var(--fill-color);\n",
       "    }\n",
       "    80% {\n",
       "      border-color: transparent;\n",
       "      border-right-color: var(--fill-color);\n",
       "      border-bottom-color: var(--fill-color);\n",
       "    }\n",
       "    90% {\n",
       "      border-color: transparent;\n",
       "      border-bottom-color: var(--fill-color);\n",
       "    }\n",
       "  }\n",
       "</style>\n",
       "\n",
       "  <script>\n",
       "    async function quickchart(key) {\n",
       "      const quickchartButtonEl =\n",
       "        document.querySelector('#' + key + ' button');\n",
       "      quickchartButtonEl.disabled = true;  // To prevent multiple clicks.\n",
       "      quickchartButtonEl.classList.add('colab-df-spinner');\n",
       "      try {\n",
       "        const charts = await google.colab.kernel.invokeFunction(\n",
       "            'suggestCharts', [key], {});\n",
       "      } catch (error) {\n",
       "        console.error('Error during call to suggestCharts:', error);\n",
       "      }\n",
       "      quickchartButtonEl.classList.remove('colab-df-spinner');\n",
       "      quickchartButtonEl.classList.add('colab-df-quickchart-complete');\n",
       "    }\n",
       "    (() => {\n",
       "      let quickchartButtonEl =\n",
       "        document.querySelector('#df-564636a7-7770-46eb-a300-ae57c257a9e2 button');\n",
       "      quickchartButtonEl.style.display =\n",
       "        google.colab.kernel.accessAllowed ? 'block' : 'none';\n",
       "    })();\n",
       "  </script>\n",
       "</div>\n",
       "    </div>\n",
       "  </div>\n"
      ],
      "text/plain": [
       "                                                text  label label_name\n",
       "0                            i didnt feel humiliated      0    sadness\n",
       "1  i can go from feeling so hopeless to so damned...      0    sadness\n",
       "2   im grabbing a minute to post i feel greedy wrong      3      anger\n",
       "3  i am ever feeling nostalgic about the fireplac...      2       love\n",
       "4                               i am feeling grouchy      3      anger"
      ]
     },
     "execution_count": 30,
     "metadata": {},
     "output_type": "execute_result"
    }
   ],
   "source": [
    "data = pd.read_csv('../dataset/twitter_multi_class_sentiment.csv')\n",
    "data.head()"
   ]
  },
  {
   "cell_type": "code",
   "execution_count": 7,
   "id": "f0bc01f1-3ce1-4ae0-b977-dcbaa47511a6",
   "metadata": {
    "colab": {
     "base_uri": "https://localhost:8080/"
    },
    "id": "f0bc01f1-3ce1-4ae0-b977-dcbaa47511a6",
    "outputId": "b58669f9-fad5-4ed2-94f0-a955f1678dc0"
   },
   "outputs": [
    {
     "name": "stdout",
     "output_type": "stream",
     "text": [
      "<class 'pandas.core.frame.DataFrame'>\n",
      "RangeIndex: 16000 entries, 0 to 15999\n",
      "Data columns (total 3 columns):\n",
      " #   Column      Non-Null Count  Dtype \n",
      "---  ------      --------------  ----- \n",
      " 0   text        16000 non-null  object\n",
      " 1   label       16000 non-null  int64 \n",
      " 2   label_name  16000 non-null  object\n",
      "dtypes: int64(1), object(2)\n",
      "memory usage: 375.1+ KB\n"
     ]
    }
   ],
   "source": [
    "data.info()"
   ]
  },
  {
   "cell_type": "code",
   "execution_count": 8,
   "id": "ca3a3aa3-85ea-4881-955b-ff5854de4726",
   "metadata": {
    "colab": {
     "base_uri": "https://localhost:8080/",
     "height": 178
    },
    "id": "ca3a3aa3-85ea-4881-955b-ff5854de4726",
    "outputId": "7789fabb-a319-4f8b-ed23-6f0d0f9ef3d0"
   },
   "outputs": [
    {
     "data": {
      "text/html": [
       "<div>\n",
       "<style scoped>\n",
       "    .dataframe tbody tr th:only-of-type {\n",
       "        vertical-align: middle;\n",
       "    }\n",
       "\n",
       "    .dataframe tbody tr th {\n",
       "        vertical-align: top;\n",
       "    }\n",
       "\n",
       "    .dataframe thead th {\n",
       "        text-align: right;\n",
       "    }\n",
       "</style>\n",
       "<table border=\"1\" class=\"dataframe\">\n",
       "  <thead>\n",
       "    <tr style=\"text-align: right;\">\n",
       "      <th></th>\n",
       "      <th>0</th>\n",
       "    </tr>\n",
       "  </thead>\n",
       "  <tbody>\n",
       "    <tr>\n",
       "      <th>text</th>\n",
       "      <td>0</td>\n",
       "    </tr>\n",
       "    <tr>\n",
       "      <th>label</th>\n",
       "      <td>0</td>\n",
       "    </tr>\n",
       "    <tr>\n",
       "      <th>label_name</th>\n",
       "      <td>0</td>\n",
       "    </tr>\n",
       "  </tbody>\n",
       "</table>\n",
       "</div><br><label><b>dtype:</b> int64</label>"
      ],
      "text/plain": [
       "text          0\n",
       "label         0\n",
       "label_name    0\n",
       "dtype: int64"
      ]
     },
     "execution_count": 8,
     "metadata": {},
     "output_type": "execute_result"
    }
   ],
   "source": [
    "data.isna().sum()"
   ]
  },
  {
   "cell_type": "code",
   "execution_count": 9,
   "id": "253285ea-303f-4f13-b1ae-9c95dee28297",
   "metadata": {
    "colab": {
     "base_uri": "https://localhost:8080/",
     "height": 304
    },
    "id": "253285ea-303f-4f13-b1ae-9c95dee28297",
    "outputId": "21e8abd9-1f00-4aeb-861e-8b1eb9a4953b"
   },
   "outputs": [
    {
     "data": {
      "text/html": [
       "<div>\n",
       "<style scoped>\n",
       "    .dataframe tbody tr th:only-of-type {\n",
       "        vertical-align: middle;\n",
       "    }\n",
       "\n",
       "    .dataframe tbody tr th {\n",
       "        vertical-align: top;\n",
       "    }\n",
       "\n",
       "    .dataframe thead th {\n",
       "        text-align: right;\n",
       "    }\n",
       "</style>\n",
       "<table border=\"1\" class=\"dataframe\">\n",
       "  <thead>\n",
       "    <tr style=\"text-align: right;\">\n",
       "      <th></th>\n",
       "      <th>count</th>\n",
       "    </tr>\n",
       "    <tr>\n",
       "      <th>label</th>\n",
       "      <th></th>\n",
       "    </tr>\n",
       "  </thead>\n",
       "  <tbody>\n",
       "    <tr>\n",
       "      <th>1</th>\n",
       "      <td>5362</td>\n",
       "    </tr>\n",
       "    <tr>\n",
       "      <th>0</th>\n",
       "      <td>4666</td>\n",
       "    </tr>\n",
       "    <tr>\n",
       "      <th>3</th>\n",
       "      <td>2159</td>\n",
       "    </tr>\n",
       "    <tr>\n",
       "      <th>4</th>\n",
       "      <td>1937</td>\n",
       "    </tr>\n",
       "    <tr>\n",
       "      <th>2</th>\n",
       "      <td>1304</td>\n",
       "    </tr>\n",
       "    <tr>\n",
       "      <th>5</th>\n",
       "      <td>572</td>\n",
       "    </tr>\n",
       "  </tbody>\n",
       "</table>\n",
       "</div><br><label><b>dtype:</b> int64</label>"
      ],
      "text/plain": [
       "label\n",
       "1    5362\n",
       "0    4666\n",
       "3    2159\n",
       "4    1937\n",
       "2    1304\n",
       "5     572\n",
       "Name: count, dtype: int64"
      ]
     },
     "execution_count": 9,
     "metadata": {},
     "output_type": "execute_result"
    }
   ],
   "source": [
    "data['label'].value_counts()"
   ]
  },
  {
   "cell_type": "code",
   "execution_count": 10,
   "id": "82e0f241-416f-4a37-92d7-fb1ab0f1a529",
   "metadata": {
    "colab": {
     "base_uri": "https://localhost:8080/",
     "height": 452
    },
    "id": "82e0f241-416f-4a37-92d7-fb1ab0f1a529",
    "outputId": "188c5578-a5b6-408c-88bb-cdf82c61ca86"
   },
   "outputs": [
    {
     "data": {
      "image/png": "[encoded data removed]",
      "text/plain": [
       "<Figure size 640x480 with 1 Axes>"
      ]
     },
     "metadata": {},
     "output_type": "display_data"
    }
   ],
   "source": [
    "label_counts = data['label_name'].value_counts()\n",
    "label_counts.plot.barh()\n",
    "plt.title('Frequency of Classes')\n",
    "plt.show()"
   ]
  },
  {
   "cell_type": "code",
   "execution_count": 11,
   "id": "3241bee3-443e-4997-a515-8c48886e94c9",
   "metadata": {
    "colab": {
     "base_uri": "https://localhost:8080/",
     "height": 478
    },
    "id": "3241bee3-443e-4997-a515-8c48886e94c9",
    "outputId": "c67966a4-eae7-4ad8-b1f8-fa77becb6256"
   },
   "outputs": [
    {
     "data": {
      "image/png": "[encoded data removed]",
      "text/plain": [
       "<Figure size 640x480 with 1 Axes>"
      ]
     },
     "metadata": {},
     "output_type": "display_data"
    }
   ],
   "source": [
    "data['Words per Tweet'] = data['text'].str.split().apply(len)\n",
    "data.boxplot('Words per Tweet', by= 'label_name');"
   ]
  },
  {
   "cell_type": "code",
   "execution_count": 12,
   "id": "a68fad86-f3ff-4b8e-a683-2f0cfec209d6",
   "metadata": {
    "colab": {
     "base_uri": "https://localhost:8080/"
    },
    "id": "a68fad86-f3ff-4b8e-a683-2f0cfec209d6",
    "outputId": "dc94f17a-6edf-40c3-9ac5-03ff4d34ac78"
   },
   "outputs": [
    {
     "name": "stdout",
     "output_type": "stream",
     "text": [
      "{'input_ids': [101, 1045, 2293, 3698, 4083, 999, 19204, 3989, 2003, 12476, 999, 999, 102], 'token_type_ids': [0, 0, 0, 0, 0, 0, 0, 0, 0, 0, 0, 0, 0], 'attention_mask': [1, 1, 1, 1, 1, 1, 1, 1, 1, 1, 1, 1, 1]}\n"
     ]
    },
    {
     "name": "stderr",
     "output_type": "stream",
     "text": [
      "/usr/local/lib/python3.10/dist-packages/huggingface_hub/utils/_token.py:89: UserWarning: \n",
      "The secret `HF_TOKEN` does not exist in your Colab secrets.\n",
      "To authenticate with the Hugging Face Hub, create a token in your settings tab (https://huggingface.co/settings/tokens), set it as secret in your Google Colab and restart your session.\n",
      "You will be able to reuse this secret in all of your notebooks.\n",
      "Please note that authentication is recommended but still optional to access public models or datasets.\n",
      "  warnings.warn(\n",
      "/usr/local/lib/python3.10/dist-packages/transformers/tokenization_utils_base.py:1601: FutureWarning: `clean_up_tokenization_spaces` was not set. It will be set to `True` by default. This behavior will be depracted in transformers v4.45, and will be then set to `False` by default. For more details check this issue: https://github.com/huggingface/transformers/issues/31884\n",
      "  warnings.warn(\n"
     ]
    }
   ],
   "source": [
    "# عملیات توکن سازی برای متن را انجام می دهیم، توکن‌سازی فرآیندی است که متن را به اجزای کوچک‌تر، معمولاً کلمات، تبدیل می‌کند\n",
    "\n",
    "model_ckpt = \"bert-base-uncased\"  # متغییری را تعریف می کنیم و نام مدل برت را در آن ذخیره می کنیم\n",
    "tokenizer = AutoTokenizer.from_pretrained(model_ckpt) # یک نمونه از توکن ساز را با استفاده از مدل برت که قبلا تعیین شده ایجاد می کند\n",
    "text = \"I love machine learning! Tokenization is awesome!!\" # یک متن برای تست و آزمایش می نویسیم\n",
    "encoded_text = tokenizer(text) # متن را بعنوان ورودی به توکن می دهیم و آن را به فرم کدگذاری شده (انکد) تبدیل می کند\n",
    "print(encoded_text)"
   ]
  },
  {
   "cell_type": "code",
   "execution_count": 13,
   "id": "a1ef55a3-63aa-4c86-bd23-011c665006a5",
   "metadata": {
    "id": "a1ef55a3-63aa-4c86-bd23-011c665006a5"
   },
   "outputs": [],
   "source": [
    "# در خروجی بالا موارد به شرح ذیل است\n",
    "# input_ids: این قسمت، نمایشی عددی از متن ورودی است که هر کلمه یا توکن را به یک شناسه عددی خاص تبدیل می‌کند، عدد 101 نشان دهنده آغاز جمله و عدد 102 نشان دهنده پایان جمله هست\n",
    "# token_type_ids:  این بخش نشان می‌دهد که هر توکن متعلق به کدام جمله یا بخش از متن است. در تحلیل‌های دو جمله‌ای، این شناسه‌ها کمک می‌کنند و در اینجا، تمام مقادیر 0 هستند، زیرا فقط یک جمله به مدل داده شده و همه توکن‌ها مربوط به یک بخش (بخش صفرم) هستند\n",
    "# attention_mask: تعیین می کند که کدام توکن ها در محاسبه باید مورد توجه قرار گیرد و کدام ها نباید قرار گیرد و چون تمام اعداد یک است پس یعنی همه توکن‌ها باید پردازش شوند. این حالت زمانی رخ می‌دهد که هیچ توکن اضافی یا خالی در ورودی وجود ندارد"
   ]
  },
  {
   "cell_type": "code",
   "execution_count": 14,
   "id": "432180e6-5d7a-45cd-bf97-55e25b80b627",
   "metadata": {
    "colab": {
     "base_uri": "https://localhost:8080/"
    },
    "id": "432180e6-5d7a-45cd-bf97-55e25b80b627",
    "outputId": "d1651910-3332-4b3f-e736-ef3112363fa9"
   },
   "outputs": [
    {
     "data": {
      "text/plain": [
       "(30522, 30522, 512)"
      ]
     },
     "execution_count": 14,
     "metadata": {},
     "output_type": "execute_result"
    }
   ],
   "source": [
    "len(tokenizer.vocab), tokenizer.vocab_size, tokenizer.model_max_length\n",
    "# len(tokenizer.vocab): این خط اندازه واژگان مدل را محاسبه می‌کند این دستور به شما تعداد کل توکن‌های منحصربه‌فردی که توکن‌ساز می‌تواند پردازش کند را نشان می‌دهد. این عدد برابر با اندازه واژگان مدل برت است (به طور معمول ۳۰,۰۰۰ یا بیشتر).\n",
    "#tokenizer.vocab_size: این ویژگی به طور مستقیم تعداد کل توکن‌های قابل استفاده در توکن‌ساز را به عنوان یک مقدار (عدد صحیح) نشان می‌دهد\n",
    "#tokenizer.model_max_length: این ویژگی طول حداکثری متنی که مدل می‌تواند پردازش کند را نشان می‌دهد. یعنی حداکثر تعداد توکن‌هایی که مدل برت می‌تواند در یک مرحله (به طور معمول ۵۱۲ توکن) بپذیرد.\n",
    "# این کد سه ویژگی کلیدی توکن‌ساز برت را استخراج می‌کند: اندازه واژگان، تعداد توکن‌ها و حداکثر طول متن قابل پردازش"
   ]
  },
  {
   "cell_type": "code",
   "execution_count": 15,
   "id": "2f5534d1-ddf9-4b69-8905-8ae781567833",
   "metadata": {
    "colab": {
     "base_uri": "https://localhost:8080/"
    },
    "id": "2f5534d1-ddf9-4b69-8905-8ae781567833",
    "outputId": "049d06de-c376-46c1-d5ed-59a6e0e0d49f"
   },
   "outputs": [
    {
     "data": {
      "text/plain": [
       "((11200, 4), (3200, 4), (1600, 4))"
      ]
     },
     "execution_count": 15,
     "metadata": {},
     "output_type": "execute_result"
    }
   ],
   "source": [
    "# stratify: برای اینکه توزیع برچسب‌ها (کلاس‌های داده‌ها) در مجموعه‌های آموزشی و تستی مشابه باشد و مدل به صورت متوازن آموزش ببیند\n",
    "train, test = train_test_split(data, test_size = 0.3, stratify = data['label_name'])\n",
    "# test_size: یک سوم از مجموعه اولیه تست به عنوان مجموعه اعتبار (validation) جدا می‌شود. در نهایت ۲۰٪ از داده‌ها به تست و ۱۰٪ به اعتبار اختصاص می‌یابد\n",
    "test, validation = train_test_split(test, test_size = 1/3, stratify = test['label_name'])\n",
    "train.shape, test.shape, validation.shape"
   ]
  },
  {
   "cell_type": "code",
   "execution_count": 16,
   "id": "fe557aa9-c664-4051-8225-ab6642fc9a12",
   "metadata": {
    "colab": {
     "base_uri": "https://localhost:8080/"
    },
    "id": "fe557aa9-c664-4051-8225-ab6642fc9a12",
    "outputId": "f05c7ecd-3179-404e-e65c-3d98468bf94e"
   },
   "outputs": [
    {
     "data": {
      "text/plain": [
       "DatasetDict({\n",
       "    train: Dataset({\n",
       "        features: ['text', 'label', 'label_name', 'Words per Tweet'],\n",
       "        num_rows: 11200\n",
       "    })\n",
       "    test: Dataset({\n",
       "        features: ['text', 'label', 'label_name', 'Words per Tweet'],\n",
       "        num_rows: 3200\n",
       "    })\n",
       "    validation: Dataset({\n",
       "        features: ['text', 'label', 'label_name', 'Words per Tweet'],\n",
       "        num_rows: 1600\n",
       "    })\n",
       "})"
      ]
     },
     "execution_count": 16,
     "metadata": {},
     "output_type": "execute_result"
    }
   ],
   "source": [
    "# یک ساختار دیکشنری مانند است که برای مدیریت چندین مجموعه داده به صورت همزمان (مثلاً مجموعه‌های آموزشی، تست و اعتبار) بسیار مناسب است\n",
    "dataset = DatasetDict({\n",
    "    # تبدیل دیتافریم پانداس به شیء دیتاست امکان استفاده از ویژگی‌های پیشرفته کتابخانه دیتاست مانند توکن‌سازی و پیش‌پردازش داده‌ها را فراهم می‌کند\n",
    "    # preserve_index: این گزینه تعیین می‌کند که شاخص (ایندکس) اصلی دبتافریم حفظ نشود. این موضوع به کار می‌آید تا داده‌ها بدون ستون اضافی برای ایندکس بارگذاری شوند\n",
    "    'train': Dataset.from_pandas(train, preserve_index = False),\n",
    "    'test': Dataset.from_pandas(test, preserve_index = False),\n",
    "    'validation': Dataset.from_pandas(validation, preserve_index = False)\n",
    "})\n",
    "dataset"
   ]
  },
  {
   "cell_type": "code",
   "execution_count": 17,
   "id": "d5d818af-9f48-49f0-b758-8df6482d91ad",
   "metadata": {
    "colab": {
     "base_uri": "https://localhost:8080/"
    },
    "id": "d5d818af-9f48-49f0-b758-8df6482d91ad",
    "outputId": "4667f2dc-8631-47f2-e2c4-2577a32005eb"
   },
   "outputs": [
    {
     "data": {
      "text/plain": [
       "({'text': 'i still feel very amorous',\n",
       "  'label': 2,\n",
       "  'label_name': 'love',\n",
       "  'Words per Tweet': 5},\n",
       " {'text': 'i feel soooo impatient',\n",
       "  'label': 3,\n",
       "  'label_name': 'anger',\n",
       "  'Words per Tweet': 4})"
      ]
     },
     "execution_count": 17,
     "metadata": {},
     "output_type": "execute_result"
    }
   ],
   "source": [
    "dataset['train'][0], dataset['train'][1]"
   ]
  },
  {
   "cell_type": "code",
   "execution_count": 18,
   "id": "9b127d7f-411e-4b1e-80ea-0b2e8923d37c",
   "metadata": {
    "colab": {
     "base_uri": "https://localhost:8080/"
    },
    "id": "9b127d7f-411e-4b1e-80ea-0b2e8923d37c",
    "outputId": "82d71d70-a5c5-4ce9-e975-38d82d6dcaa6"
   },
   "outputs": [
    {
     "name": "stdout",
     "output_type": "stream",
     "text": [
      "{'input_ids': [[101, 1045, 2145, 2514, 2200, 16095, 3560, 102], [101, 1045, 2514, 17111, 9541, 17380, 102, 0]], 'token_type_ids': [[0, 0, 0, 0, 0, 0, 0, 0], [0, 0, 0, 0, 0, 0, 0, 0]], 'attention_mask': [[1, 1, 1, 1, 1, 1, 1, 1], [1, 1, 1, 1, 1, 1, 1, 0]]}\n"
     ]
    }
   ],
   "source": [
    "# این تابع به شما امکان می‌دهد تا داده‌ها را به راحتی و به صورت یکپارچه توکن‌سازی کنید\n",
    "def tokenize(batch):\n",
    "    # batch['text']: این بخش متن‌هایی که باید توکن‌سازی شوند را از ستون text در ورودی می‌گیرد\n",
    "    # padding: این گزینه باعث می‌شود توکن‌ساز، ورودی‌ها را با افزودن padding به طول مشخصی برساند تا همه ورودی‌ها طول یکسانی داشته باشند. این ویژگی برای پردازش دسته‌ای (batch processing) مهم است.\n",
    "    # truncation: این گزینه باعث می‌شود اگر متنی طولانی‌تر از حداکثر طول قابل پردازش توسط مدل باشد، آن را کوتاه کند\n",
    "    temp = tokenizer(batch['text'], padding=True, truncation=True)\n",
    "    return temp\n",
    "\n",
    "print(tokenize(dataset['train'][:2]))"
   ]
  },
  {
   "cell_type": "code",
   "execution_count": 19,
   "id": "a4a342cc-bc0f-4313-a552-3c5e4a53e5f5",
   "metadata": {
    "colab": {
     "base_uri": "https://localhost:8080/",
     "height": 113,
     "referenced_widgets": [
      "b1cbc3fcc4354b2d98496968c849968f",
      "c0d661b202f24d2e901473302eca3a50",
      "ecb2e0f8645c4c5a88fe9b6bb2b07816",
      "0119188d4dd54e66a986bbdd60004499",
      "f694efb42946486ab83b06cf243ce5a4",
      "3b8a0e9d0c6348ceb50fa378bc1bad47",
      "7b49e58bc6264f45b40315039d5a0de9",
      "e1c42ba7f0ed4feb8e93ba42524e1422",
      "36e358d61fb8455cb6fe65dd5ae54372",
      "10f4cf9247af4dddbb1e80dbed1066a6",
      "4198b04529c34df88777ca19999577e4",
      "f311a7f9b7484cb5b4d4a20535f246d7",
      "55a94ff4e7894e0b81f4ae58e46a4938",
      "497729fc20434c11adbc19d2846a6988",
      "6a18625ad7bb4e12aad1798c0f3a04a8",
      "429a29c094d84251bd1955ecb9783f4b",
      "7645041fb7dd4081a4868e2b9d75ac62",
      "4f82718a2e9a46a0a1eb598c042be268",
      "2301ddf9e5444a768276352e1d1075f3",
      "3d305e5fed8f46f4a546b1023de45268",
      "1601d836d71a470c9140b53ccd3567c1",
      "395ea2838fb348b3b01dea113ad11c51",
      "f814a6eae88b44138d8e9af8e3effd8a",
      "a997b4703e4c4d25a6df25f883f3e575",
      "559085f1d519458ead669a5dce225ee4",
      "70e72241c0ca4d449ce3ca474dd5cee9",
      "9d19cdb32f704344ba145ef405c68314",
      "21169c4e5bb649dca0ab6a048d91ac00",
      "31f256da770841898b56f4e68acf0480",
      "42e8b631c5bf417a83f5b6d1d4c7ee65",
      "435558b97f584eb9b162dff9bee684aa",
      "d90b969f0d1c4e049a792497f5bde575",
      "1b6c2f338a894032bccee9ebc09cdd4a"
     ]
    },
    "id": "a4a342cc-bc0f-4313-a552-3c5e4a53e5f5",
    "outputId": "26c30fab-c47c-42d6-9958-2cd871efa49c"
   },
   "outputs": [
    {
     "data": {
      "application/vnd.jupyter.widget-view+json": {
       "model_id": "b1cbc3fcc4354b2d98496968c849968f",
       "version_major": 2,
       "version_minor": 0
      },
      "text/plain": [
       "Map:   0%|          | 0/11200 [00:00<?, ? examples/s]"
      ]
     },
     "metadata": {},
     "output_type": "display_data"
    },
    {
     "data": {
      "application/vnd.jupyter.widget-view+json": {
       "model_id": "f311a7f9b7484cb5b4d4a20535f246d7",
       "version_major": 2,
       "version_minor": 0
      },
      "text/plain": [
       "Map:   0%|          | 0/3200 [00:00<?, ? examples/s]"
      ]
     },
     "metadata": {},
     "output_type": "display_data"
    },
    {
     "data": {
      "application/vnd.jupyter.widget-view+json": {
       "model_id": "f814a6eae88b44138d8e9af8e3effd8a",
       "version_major": 2,
       "version_minor": 0
      },
      "text/plain": [
       "Map:   0%|          | 0/1600 [00:00<?, ? examples/s]"
      ]
     },
     "metadata": {},
     "output_type": "display_data"
    }
   ],
   "source": [
    "# این روش برای پیش‌پردازش داده‌ها به کار می‌رود تا تمام مجموعه داده‌ها را توکن‌سازی کند و نتایج را به مجموعه داده اضافه کند. این باعث می‌شود داده‌ها آماده ورود به مدل شوند\n",
    "# tokenize: این همان تابعی است که قبلاً تعریف کردیم و عمل توکن‌سازی روی داده‌ها را انجام می‌دهد\n",
    "# batched: این آرگومان تعیین می‌کند که تابع tokenize باید به صورت دسته‌ای (batch) روی داده‌ها اعمال شود، نه نمونه به نمونه این گزینه باعث می‌شود پردازش داده‌ها سریع‌تر و کارآمدتر انجام شود، به خصوص وقتی با مجموعه داده‌های بزرگ کار می‌کنیم\n",
    "# batch_size: این آرگومان مشخص می‌کند که اندازه دسته‌ها (batch) به طور پیش‌فرض توسط کتابخانه تنظیم شود\n",
    "emotion_encoded = dataset.map(tokenize, batched=True, batch_size=None)"
   ]
  },
  {
   "cell_type": "code",
   "execution_count": 20,
   "id": "b7c4797c-5d37-41c8-8f4b-459aa59cb944",
   "metadata": {
    "colab": {
     "base_uri": "https://localhost:8080/"
    },
    "id": "b7c4797c-5d37-41c8-8f4b-459aa59cb944",
    "outputId": "1ff2b2a0-f487-4cd5-c4b8-d788e2fd6f77"
   },
   "outputs": [
    {
     "data": {
      "text/plain": [
       "({'love': 2, 'anger': 3, 'joy': 1, 'sadness': 0, 'surprise': 5, 'fear': 4},\n",
       " {2: 'love', 3: 'anger', 1: 'joy', 0: 'sadness', 5: 'surprise', 4: 'fear'})"
      ]
     },
     "execution_count": 20,
     "metadata": {},
     "output_type": "execute_result"
    }
   ],
   "source": [
    "# label2id: به این خاطر استفاده می کنیم که مدل باید برچسب‌های متنی را به اعداد تبدیل کند تا قابل پردازش باشند\n",
    "#id2label: به این خاطر استفاده می کنیم که هنگام تفسیر خروجی مدل (پیش‌بینی‌ها)، نیاز داریم که شناسه‌های عددی را دوباره به نام‌های قابل خواندن برای انسان تبدیل کنیم\n",
    "\n",
    "label2id = {x['label_name']:x['label'] for x in dataset['train']}\n",
    "id2label = {v:k for k,v in label2id.items()}\n",
    "\n",
    "label2id, id2label"
   ]
  },
  {
   "cell_type": "code",
   "execution_count": 21,
   "id": "875e2245-b68d-41b8-ac83-8a122049263a",
   "metadata": {
    "id": "875e2245-b68d-41b8-ac83-8a122049263a"
   },
   "outputs": [],
   "source": [
    "model = AutoModel.from_pretrained(model_ckpt)"
   ]
  },
  {
   "cell_type": "code",
   "execution_count": 22,
   "id": "7a69f4da-225a-4f9a-b56d-45c608ac58c5",
   "metadata": {
    "colab": {
     "base_uri": "https://localhost:8080/"
    },
    "id": "7a69f4da-225a-4f9a-b56d-45c608ac58c5",
    "outputId": "85f03467-0474-4262-989a-4ead41310265"
   },
   "outputs": [
    {
     "data": {
      "text/plain": [
       "BertConfig {\n",
       "  \"_name_or_path\": \"bert-base-uncased\",\n",
       "  \"architectures\": [\n",
       "    \"BertForMaskedLM\"\n",
       "  ],\n",
       "  \"attention_probs_dropout_prob\": 0.1,\n",
       "  \"classifier_dropout\": null,\n",
       "  \"gradient_checkpointing\": false,\n",
       "  \"hidden_act\": \"gelu\",\n",
       "  \"hidden_dropout_prob\": 0.1,\n",
       "  \"hidden_size\": 768,\n",
       "  \"initializer_range\": 0.02,\n",
       "  \"intermediate_size\": 3072,\n",
       "  \"layer_norm_eps\": 1e-12,\n",
       "  \"max_position_embeddings\": 512,\n",
       "  \"model_type\": \"bert\",\n",
       "  \"num_attention_heads\": 12,\n",
       "  \"num_hidden_layers\": 12,\n",
       "  \"pad_token_id\": 0,\n",
       "  \"position_embedding_type\": \"absolute\",\n",
       "  \"transformers_version\": \"4.44.2\",\n",
       "  \"type_vocab_size\": 2,\n",
       "  \"use_cache\": true,\n",
       "  \"vocab_size\": 30522\n",
       "}"
      ]
     },
     "execution_count": 22,
     "metadata": {},
     "output_type": "execute_result"
    }
   ],
   "source": [
    "# این کد برای دسترسی به تنظیمات مدل بارگیری‌شده به کار می‌رود و جزئیات پیکربندی آن را نمایش می‌دهد\n",
    "model.config.id2label\n",
    "model.config"
   ]
  },
  {
   "cell_type": "code",
   "execution_count": 23,
   "id": "47990d99-d617-4411-a681-490e8d4a3c2c",
   "metadata": {
    "colab": {
     "base_uri": "https://localhost:8080/"
    },
    "id": "47990d99-d617-4411-a681-490e8d4a3c2c",
    "outputId": "bd6944e5-2ad7-4c96-bc97-25fbec3ed39c"
   },
   "outputs": [
    {
     "name": "stderr",
     "output_type": "stream",
     "text": [
      "Some weights of BertForSequenceClassification were not initialized from the model checkpoint at bert-base-uncased and are newly initialized: ['classifier.bias', 'classifier.weight']\n",
      "You should probably TRAIN this model on a down-stream task to be able to use it for predictions and inference.\n"
     ]
    }
   ],
   "source": [
    "# AutoModelForSequenceClassification: برای بارگیری یک مدل از پیش‌آموزش‌دیده مناسب برای وظایف طبقه‌بندی\n",
    "# AutoConfig: برای بارگیری یا ایجاد یک پیکربندی برای مدل\n",
    "from transformers import AutoModelForSequenceClassification, AutoConfig\n",
    "# len(label2id): این تعداد برای تنظیم پیکربندی مدل مورد نیاز است تا مدل بداند چند کلاس مختلف وجود دارد\n",
    "num_labels = len(label2id)\n",
    "# یعنی اگر gpu وجود داشت استفاده کن و در غیر اینصورت از cpu استفاده کن\n",
    "device = torch.device(\"cuda\" if torch.cuda.is_available() else \"cpu\")\n",
    "config = AutoConfig.from_pretrained(model_ckpt, label2id=label2id, id2label=id2label)\n",
    "#این شیء شامل اطلاعاتی مثل تعداد برچسب‌ها و نگاشت‌های مربوط به آن‌ها است که برای شخصی‌سازی پیکربندی مدل مفید است\n",
    "config = AutoConfig.from_pretrained(model_ckpt, label2id=label2id, id2label=id2label)\n",
    "model = AutoModelForSequenceClassification.from_pretrained(model_ckpt, config=config).to(device)"
   ]
  },
  {
   "cell_type": "code",
   "execution_count": 24,
   "id": "47711711-1bfa-41f2-8325-68e01b49adf0",
   "metadata": {
    "colab": {
     "base_uri": "https://localhost:8080/"
    },
    "id": "47711711-1bfa-41f2-8325-68e01b49adf0",
    "outputId": "a3849860-3232-449e-90b8-37a6223dc205"
   },
   "outputs": [
    {
     "data": {
      "text/plain": [
       "BertConfig {\n",
       "  \"_name_or_path\": \"bert-base-uncased\",\n",
       "  \"architectures\": [\n",
       "    \"BertForMaskedLM\"\n",
       "  ],\n",
       "  \"attention_probs_dropout_prob\": 0.1,\n",
       "  \"classifier_dropout\": null,\n",
       "  \"gradient_checkpointing\": false,\n",
       "  \"hidden_act\": \"gelu\",\n",
       "  \"hidden_dropout_prob\": 0.1,\n",
       "  \"hidden_size\": 768,\n",
       "  \"id2label\": {\n",
       "    \"0\": \"sadness\",\n",
       "    \"1\": \"joy\",\n",
       "    \"2\": \"love\",\n",
       "    \"3\": \"anger\",\n",
       "    \"4\": \"fear\",\n",
       "    \"5\": \"surprise\"\n",
       "  },\n",
       "  \"initializer_range\": 0.02,\n",
       "  \"intermediate_size\": 3072,\n",
       "  \"label2id\": {\n",
       "    \"anger\": 3,\n",
       "    \"fear\": 4,\n",
       "    \"joy\": 1,\n",
       "    \"love\": 2,\n",
       "    \"sadness\": 0,\n",
       "    \"surprise\": 5\n",
       "  },\n",
       "  \"layer_norm_eps\": 1e-12,\n",
       "  \"max_position_embeddings\": 512,\n",
       "  \"model_type\": \"bert\",\n",
       "  \"num_attention_heads\": 12,\n",
       "  \"num_hidden_layers\": 12,\n",
       "  \"pad_token_id\": 0,\n",
       "  \"position_embedding_type\": \"absolute\",\n",
       "  \"transformers_version\": \"4.44.2\",\n",
       "  \"type_vocab_size\": 2,\n",
       "  \"use_cache\": true,\n",
       "  \"vocab_size\": 30522\n",
       "}"
      ]
     },
     "execution_count": 24,
     "metadata": {},
     "output_type": "execute_result"
    }
   ],
   "source": [
    "model.config"
   ]
  },
  {
   "cell_type": "code",
   "execution_count": 25,
   "id": "f47b9df0-7d5d-4a02-9ee9-d492b5e73509",
   "metadata": {
    "colab": {
     "base_uri": "https://localhost:8080/"
    },
    "id": "f47b9df0-7d5d-4a02-9ee9-d492b5e73509",
    "outputId": "17b6971b-dbd6-4a2d-eb01-63bf391d7056"
   },
   "outputs": [
    {
     "name": "stderr",
     "output_type": "stream",
     "text": [
      "/usr/local/lib/python3.10/dist-packages/transformers/training_args.py:1525: FutureWarning: `evaluation_strategy` is deprecated and will be removed in version 4.46 of 🤗 Transformers. Use `eval_strategy` instead\n",
      "  warnings.warn(\n"
     ]
    }
   ],
   "source": [
    "# این کلاس به شما اجازه می‌دهد تا تنظیمات و پارامترهای مربوط به فرآیند آموزش مدل را مشخص کنید\n",
    "from transformers import TrainingArguments\n",
    "# batch_size: اندازه دسته ها برای هر مرحله آموزش را مشخص می کند و انتخاب اندازه مناسب برای دسته‌ها به تعادل بین استفاده از حافظه و زمان آموزش کمک می‌کند. دسته‌های بزرگ‌تر معمولاً سرعت آموزش را افزایش می‌دهند ولی نیاز به حافظه بیشتری دارند\n",
    "batch_size = 64\n",
    "# این مسیر برای ذخیره مدل‌ها و فایل‌های خروجی ایجاد شده در طول فرآیند آموزش به کار می‌رود\n",
    "training_dir = \"bert_base_train_dir\"\n",
    "# output_dir: مشخص کردن محل ذخیره نتایج برای ارزیابی و ادامه آموزش\n",
    "# overwrite_output_dir: اگر True باشد، محتویات پوشه خروجی در صورت وجود بازنویسی می‌شود و برای جلوگیری از خطا در صورت وجود فایل‌های قدیمی در مسیر خروجی\n",
    "# num_train_epochs: تعداد دفعاتی که مدل روی کل داده‌های آموزشی آموزش می‌بیند\n",
    "# learning_rate: نرخ یادگیری که مشخص می‌کند مدل در هر به‌روزرسانی پارامترهای خود چقدر تغییر کند\n",
    "# per_device_train_batch_size: اندازه دسته برای آموزش در هر دستگاه CPU و GPU\n",
    "# per_device_eval_batch_size: اندازه دسته برای ارزیابی در هر دستگاه و کمک می‌کند که در زمان ارزیابی حافظه بهینه مصرف شود\n",
    "# weight_decay: نرخ کاهش وزن که برای جلوگیری از بیش‌برازش استفاده می‌شود و کمک می‌کند مدل از یادگیری بیش از حد پیچیده جلوگیری کند و تعمیم بهتری داشته باشد\n",
    "# evaluation_strategy: یعنی پس از هر ایپاک مدل ارزیابی می شود و ارزیابی مدل پس از هر دوره کمک می‌کند تا پیشرفت مدل در طول زمان مانیتور شود\n",
    "# disable_tqdm: اگر مقدار فالس باشد نوار پیشرفت در طول دوره نمایش داده می شود\n",
    "training_args = TrainingArguments( output_dir=training_dir,\n",
    "                                  overwrite_output_dir = True,\n",
    "                                  num_train_epochs = 2,\n",
    "                                  learning_rate = 2e-5,\n",
    "                                  per_device_train_batch_size = batch_size,\n",
    "                                  per_device_eval_batch_size = batch_size,\n",
    "                                  weight_decay = 0.01,\n",
    "                                  evaluation_strategy = 'epoch',\n",
    "                                  disable_tqdm = False\n",
    ")"
   ]
  },
  {
   "cell_type": "code",
   "execution_count": 26,
   "id": "9ee215bd-7df3-43bc-968f-adcb028ebc48",
   "metadata": {
    "id": "9ee215bd-7df3-43bc-968f-adcb028ebc48"
   },
   "outputs": [],
   "source": [
    "# این کد برای ارزیابی عملکرد مدل با محاسبه دقت پیش‌بینی‌ها در مقایسه با برچسب‌های واقعی استفاده می‌شود\n",
    "# بارگیری تابع دقت برای محاسبه ارزیابی مدل روی داده‌های پیش‌بینی‌شده و واقعی\n",
    "accuracy = evaluate.load(\"accuracy\")\n",
    "def compute_metrics_evaluate(eval_pred):\n",
    "    # eval_pred: به تابع پاس داده می شود و شامل دو مدل است پیش بینی مدل و برچسب های واقعی و علت استفاده برای دسترسی به مقادیر پیش‌بینی‌ها و برچسب‌ها در داخل تابع است\n",
    "    predictions, labels = eval_pred\n",
    "    # مدل معمولاً خروجی احتمال برای هر کلاس را برمی‌گرداند، و با این خط کد، بالاترین احتمال به عنوان پیش‌بینی نهایی برای هر نمونه انتخاب می‌شود\n",
    "    predictions = np.argmax(predictions, axis=1)\n",
    "    # برای محاسبه دقت مدل با استفاده از پیش‌بینی‌ها و برچسب‌های واقعی استفاده می‌شود و این خط دقت پیش‌بینی‌های مدل را برمی‌گرداند تا برای ارزیابی عملکرد مدل در طول آموزش یا ارزیابی نهایی استفاده شود\n",
    "    return accuracy.compute(predictions=predictions, references=labels)"
   ]
  },
  {
   "cell_type": "code",
   "execution_count": 27,
   "id": "a4020b3a-262f-4ed0-bf73-3834a939a1be",
   "metadata": {
    "id": "a4020b3a-262f-4ed0-bf73-3834a939a1be"
   },
   "outputs": [],
   "source": [
    "def compute_metrics(pred):\n",
    "    # برای محاسبه دقت و نمره F1 نیاز به برچسب‌های واقعی داریم تا بتوانیم آن‌ها را با پیش‌بینی‌ها مقایسه کنیم\n",
    "    labels = pred.label_ids\n",
    "    # در مدل‌های طبقه‌بندی، پیش‌بینی‌ها معمولاً شامل احتمال‌هایی برای هر کلاس هستند و برچسب با بالاترین احتمال را انتخاب می‌کند\n",
    "    preds = pred.predictions.argmax(-1)\n",
    "    # به این معناست که نمره F1 برای هر کلاس محاسبه شده و با توجه به تعداد نمونه‌ها وزن‌دهی می‌شود\n",
    "    f1 = f1_score(labels, preds, average=\"weighted\")\n",
    "    # دقت را محاسبه می‌کند که نشان می‌دهد چه درصدی از پیش‌بینی‌ها درست هستند\n",
    "    acc = accuracy_score(labels, preds)\n",
    "\n",
    "    return {\"accuracy\": acc, \"f1\": f1}"
   ]
  },
  {
   "cell_type": "code",
   "execution_count": 28,
   "id": "5bd58738-0f4a-41a5-afa9-35efb359a2aa",
   "metadata": {
    "id": "5bd58738-0f4a-41a5-afa9-35efb359a2aa"
   },
   "outputs": [],
   "source": [
    "# با استفاده از مدل، داده‌های آموزشی و اعتبارسنجی، و تنظیمات تعریف‌شده، فرآیند آموزش و ارزیابی مدل را مدیریت می‌کند\n",
    "# مدل از قبل تعریف‌شده (مثلاً AutoModelForSequenceClassification) به Trainer داده می‌شود\n",
    "# training_args: تعیین پارامترهای مربوط به آموزش مانند تعداد epochها، نرخ یادگیری، اندازه دسته و استراتژی ارزیابی\n",
    "from transformers import Trainer\n",
    "trainer = Trainer(model=model, args=training_args,\n",
    "                  # این تابع (که قبلاً تعریف شده) برای محاسبه دقت و نمره F1 استفاده می‌شود تا عملکرد مدل در طول و پایان آموزش ارزیابی شود\n",
    "                  compute_metrics=compute_metrics,\n",
    "                  # مشخص کردن داده‌هایی که برای آموزش مدل استفاده خواهند شد\n",
    "                  train_dataset = emotion_encoded['train'],\n",
    "                  # کمک می‌کند تا عملکرد مدل به صورت دوره‌ای ارزیابی شده و مانیتور شود\n",
    "                  eval_dataset = emotion_encoded['validation'],\n",
    "                  # برای پردازش داده‌های ورودی و آماده‌سازی آن‌ها برای مدل به توکنایزر نیاز دارد\n",
    "                  tokenizer = tokenizer)"
   ]
  },
  {
   "cell_type": "code",
   "execution_count": 31,
   "id": "g2kjfEs4t6NG",
   "metadata": {
    "colab": {
     "base_uri": "https://localhost:8080/"
    },
    "id": "g2kjfEs4t6NG",
    "outputId": "132051c9-c7af-41cf-de23-c4638065849a"
   },
   "outputs": [
    {
     "name": "stdout",
     "output_type": "stream",
     "text": [
      "Requirement already satisfied: wandb in /usr/local/lib/python3.10/dist-packages (0.18.5)\n",
      "Requirement already satisfied: click!=8.0.0,>=7.1 in /usr/local/lib/python3.10/dist-packages (from wandb) (8.1.7)\n",
      "Requirement already satisfied: docker-pycreds>=0.4.0 in /usr/local/lib/python3.10/dist-packages (from wandb) (0.4.0)\n",
      "Requirement already satisfied: gitpython!=3.1.29,>=1.0.0 in /usr/local/lib/python3.10/dist-packages (from wandb) (3.1.43)\n",
      "Requirement already satisfied: platformdirs in /usr/local/lib/python3.10/dist-packages (from wandb) (4.3.6)\n",
      "Requirement already satisfied: protobuf!=4.21.0,!=5.28.0,<6,>=3.19.0 in /usr/local/lib/python3.10/dist-packages (from wandb) (3.20.3)\n",
      "Requirement already satisfied: psutil>=5.0.0 in /usr/local/lib/python3.10/dist-packages (from wandb) (5.9.5)\n",
      "Requirement already satisfied: pyyaml in /usr/local/lib/python3.10/dist-packages (from wandb) (6.0.2)\n",
      "Requirement already satisfied: requests<3,>=2.0.0 in /usr/local/lib/python3.10/dist-packages (from wandb) (2.32.3)\n",
      "Requirement already satisfied: sentry-sdk>=2.0.0 in /usr/local/lib/python3.10/dist-packages (from wandb) (2.17.0)\n",
      "Requirement already satisfied: setproctitle in /usr/local/lib/python3.10/dist-packages (from wandb) (1.3.3)\n",
      "Requirement already satisfied: setuptools in /usr/local/lib/python3.10/dist-packages (from wandb) (75.1.0)\n",
      "Requirement already satisfied: typing-extensions<5,>=4.4 in /usr/local/lib/python3.10/dist-packages (from wandb) (4.12.2)\n",
      "Requirement already satisfied: six>=1.4.0 in /usr/local/lib/python3.10/dist-packages (from docker-pycreds>=0.4.0->wandb) (1.16.0)\n",
      "Requirement already satisfied: gitdb<5,>=4.0.1 in /usr/local/lib/python3.10/dist-packages (from gitpython!=3.1.29,>=1.0.0->wandb) (4.0.11)\n",
      "Requirement already satisfied: charset-normalizer<4,>=2 in /usr/local/lib/python3.10/dist-packages (from requests<3,>=2.0.0->wandb) (3.4.0)\n",
      "Requirement already satisfied: idna<4,>=2.5 in /usr/local/lib/python3.10/dist-packages (from requests<3,>=2.0.0->wandb) (3.10)\n",
      "Requirement already satisfied: urllib3<3,>=1.21.1 in /usr/local/lib/python3.10/dist-packages (from requests<3,>=2.0.0->wandb) (2.2.3)\n",
      "Requirement already satisfied: certifi>=2017.4.17 in /usr/local/lib/python3.10/dist-packages (from requests<3,>=2.0.0->wandb) (2024.8.30)\n",
      "Requirement already satisfied: smmap<6,>=3.0.1 in /usr/local/lib/python3.10/dist-packages (from gitdb<5,>=4.0.1->gitpython!=3.1.29,>=1.0.0->wandb) (5.0.1)\n"
     ]
    }
   ],
   "source": [
    "!pip install wandb"
   ]
  },
  {
   "cell_type": "code",
   "execution_count": 32,
   "id": "stQCDSfzuAZO",
   "metadata": {
    "colab": {
     "base_uri": "https://localhost:8080/",
     "height": 546
    },
    "id": "stQCDSfzuAZO",
    "outputId": "cee6f1d8-91d4-4b76-85de-088411648856"
   },
   "outputs": [
    {
     "name": "stderr",
     "output_type": "stream",
     "text": [
      "\u001b[34m\u001b[1mwandb\u001b[0m: Using wandb-core as the SDK backend. Please refer to https://wandb.me/wandb-core for more information.\n"
     ]
    },
    {
     "data": {
      "application/javascript": "\n        window._wandbApiKey = new Promise((resolve, reject) => {\n            function loadScript(url) {\n            return new Promise(function(resolve, reject) {\n                let newScript = document.createElement(\"script\");\n                newScript.onerror = reject;\n                newScript.onload = resolve;\n                document.body.appendChild(newScript);\n                newScript.src = url;\n            });\n            }\n            loadScript(\"https://cdn.jsdelivr.net/npm/postmate/build/postmate.min.js\").then(() => {\n            const iframe = document.createElement('iframe')\n            iframe.style.cssText = \"width:0;height:0;border:none\"\n            document.body.appendChild(iframe)\n            const handshake = new Postmate({\n                container: iframe,\n                url: 'https://wandb.ai/authorize'\n            });\n            const timeout = setTimeout(() => reject(\"Couldn't auto authenticate\"), 5000)\n            handshake.then(function(child) {\n                child.on('authorize', data => {\n                    clearTimeout(timeout)\n                    resolve(data)\n                });\n            });\n            })\n        });\n    ",
      "text/plain": [
       "<IPython.core.display.Javascript object>"
      ]
     },
     "metadata": {},
     "output_type": "display_data"
    },
    {
     "name": "stderr",
     "output_type": "stream",
     "text": [
      "\u001b[34m\u001b[1mwandb\u001b[0m: Logging into wandb.ai. (Learn how to deploy a W&B server locally: https://wandb.me/wandb-server)\n",
      "\u001b[34m\u001b[1mwandb\u001b[0m: You can find your API key in your browser here: https://wandb.ai/authorize\n",
      "wandb: Paste an API key from your profile and hit enter, or press ctrl+c to quit:"
     ]
    },
    {
     "name": "stdout",
     "output_type": "stream",
     "text": [
      " ··········\n"
     ]
    },
    {
     "name": "stderr",
     "output_type": "stream",
     "text": [
      "\u001b[34m\u001b[1mwandb\u001b[0m: Appending key for api.wandb.ai to your netrc file: /root/.netrc\n"
     ]
    },
    {
     "data": {
      "text/html": [
       "<iframe src='https://wandb.ai/msalarvand1990-mpa/login/workspace?jupyter=true' style='border:none;width:100%;height:420px;'></iframe>"
      ],
      "text/plain": [
       "<wandb.jupyter.IFrame at 0x7bd9531ff460>"
      ]
     },
     "metadata": {},
     "output_type": "display_data"
    }
   ],
   "source": [
    "wandb login"
   ]
  },
  {
   "cell_type": "code",
   "execution_count": null,
   "id": "Co1Lq-NKvumk",
   "metadata": {
    "id": "Co1Lq-NKvumk"
   },
   "outputs": [],
   "source": []
  },
  {
   "cell_type": "code",
   "execution_count": 33,
   "id": "5ad73dab-8055-4d48-9bc3-6a2bf87df9af",
   "metadata": {
    "colab": {
     "base_uri": "https://localhost:8080/",
     "height": 314
    },
    "id": "5ad73dab-8055-4d48-9bc3-6a2bf87df9af",
    "outputId": "7ae3a626-364d-44d9-dc40-59772214af50"
   },
   "outputs": [
    {
     "name": "stderr",
     "output_type": "stream",
     "text": [
      "\u001b[34m\u001b[1mwandb\u001b[0m: \u001b[33mWARNING\u001b[0m The `run_name` is currently set to the same value as `TrainingArguments.output_dir`. If this was not intended, please specify a different run name by setting the `TrainingArguments.run_name` parameter.\n",
      "\u001b[34m\u001b[1mwandb\u001b[0m: Currently logged in as: \u001b[33mmsalarvand1990\u001b[0m (\u001b[33mmsalarvand1990-mpa\u001b[0m). Use \u001b[1m`wandb login --relogin`\u001b[0m to force relogin\n"
     ]
    },
    {
     "data": {
      "text/html": [
       "Tracking run with wandb version 0.18.5"
      ],
      "text/plain": [
       "<IPython.core.display.HTML object>"
      ]
     },
     "metadata": {},
     "output_type": "display_data"
    },
    {
     "data": {
      "text/html": [
       "Run data is saved locally in <code>/content/wandb/run-20241106_182448-8cgh2ajg</code>"
      ],
      "text/plain": [
       "<IPython.core.display.HTML object>"
      ]
     },
     "metadata": {},
     "output_type": "display_data"
    },
    {
     "data": {
      "text/html": [
       "Syncing run <strong><a href='https://wandb.ai/msalarvand1990-mpa/huggingface/runs/8cgh2ajg' target=\"_blank\">bert_base_train_dir</a></strong> to <a href='https://wandb.ai/msalarvand1990-mpa/huggingface' target=\"_blank\">Weights & Biases</a> (<a href='https://wandb.me/run' target=\"_blank\">docs</a>)<br/>"
      ],
      "text/plain": [
       "<IPython.core.display.HTML object>"
      ]
     },
     "metadata": {},
     "output_type": "display_data"
    },
    {
     "data": {
      "text/html": [
       " View project at <a href='https://wandb.ai/msalarvand1990-mpa/huggingface' target=\"_blank\">https://wandb.ai/msalarvand1990-mpa/huggingface</a>"
      ],
      "text/plain": [
       "<IPython.core.display.HTML object>"
      ]
     },
     "metadata": {},
     "output_type": "display_data"
    },
    {
     "data": {
      "text/html": [
       " View run at <a href='https://wandb.ai/msalarvand1990-mpa/huggingface/runs/8cgh2ajg' target=\"_blank\">https://wandb.ai/msalarvand1990-mpa/huggingface/runs/8cgh2ajg</a>"
      ],
      "text/plain": [
       "<IPython.core.display.HTML object>"
      ]
     },
     "metadata": {},
     "output_type": "display_data"
    },
    {
     "data": {
      "text/html": [
       "\n",
       "    <div>\n",
       "      \n",
       "      <progress value='350' max='350' style='width:300px; height:20px; vertical-align: middle;'></progress>\n",
       "      [350/350 05:25, Epoch 2/2]\n",
       "    </div>\n",
       "    <table border=\"1\" class=\"dataframe\">\n",
       "  <thead>\n",
       " <tr style=\"text-align: left;\">\n",
       "      <th>Epoch</th>\n",
       "      <th>Training Loss</th>\n",
       "      <th>Validation Loss</th>\n",
       "      <th>Accuracy</th>\n",
       "      <th>F1</th>\n",
       "    </tr>\n",
       "  </thead>\n",
       "  <tbody>\n",
       "    <tr>\n",
       "      <td>1</td>\n",
       "      <td>No log</td>\n",
       "      <td>0.450387</td>\n",
       "      <td>0.846875</td>\n",
       "      <td>0.831525</td>\n",
       "    </tr>\n",
       "    <tr>\n",
       "      <td>2</td>\n",
       "      <td>No log</td>\n",
       "      <td>0.280839</td>\n",
       "      <td>0.905000</td>\n",
       "      <td>0.903881</td>\n",
       "    </tr>\n",
       "  </tbody>\n",
       "</table><p>"
      ],
      "text/plain": [
       "<IPython.core.display.HTML object>"
      ]
     },
     "metadata": {},
     "output_type": "display_data"
    },
    {
     "data": {
      "text/plain": [
       "TrainOutput(global_step=350, training_loss=0.6881948852539063, metrics={'train_runtime': 333.3969, 'train_samples_per_second': 67.187, 'train_steps_per_second': 1.05, 'total_flos': 1001502421516800.0, 'train_loss': 0.6881948852539063, 'epoch': 2.0})"
      ]
     },
     "execution_count": 33,
     "metadata": {},
     "output_type": "execute_result"
    }
   ],
   "source": [
    "# این متد خروجی‌هایی مانند لاگ‌های مربوط به پیشرفت آموزش، معیارهای ارزیابی دوره‌ای، و وضعیت نهایی مدل را نمایش می‌دهد\n",
    "trainer.train()"
   ]
  },
  {
   "cell_type": "code",
   "execution_count": 34,
   "id": "HxoxIJmivr-8",
   "metadata": {
    "colab": {
     "base_uri": "https://localhost:8080/",
     "height": 121
    },
    "id": "HxoxIJmivr-8",
    "outputId": "99ba158d-9191-41cd-f99f-eb2ca1d4c484"
   },
   "outputs": [
    {
     "data": {
      "text/html": [],
      "text/plain": [
       "<IPython.core.display.HTML object>"
      ]
     },
     "metadata": {},
     "output_type": "display_data"
    },
    {
     "data": {
      "text/plain": [
       "{'test_loss': 0.2759038507938385,\n",
       " 'test_accuracy': 0.906875,\n",
       " 'test_f1': 0.9062730985958986,\n",
       " 'test_runtime': 12.496,\n",
       " 'test_samples_per_second': 256.083,\n",
       " 'test_steps_per_second': 4.001}"
      ]
     },
     "execution_count": 34,
     "metadata": {},
     "output_type": "execute_result"
    }
   ],
   "source": [
    "# این کد پیش‌بینی مدل را روی داده‌های تست اجرا می‌کند و معیارهای ارزیابی را برای این پیش‌بینی‌ها نمایش می‌دهد\n",
    "#برای اجرای پیش‌بینی مدل روی داده‌های جدید (در اینجا، داده‌های تست) و ارزیابی عملکرد آن روی این داده‌ها\n",
    "preds_output = trainer.predict(emotion_encoded['test'])\n",
    "# برای نمایش یا استفاده از معیارهای ارزیابی مدل که روی داده‌های تست محاسبه شده‌اند\n",
    "preds_output.metrics"
   ]
  },
  {
   "cell_type": "code",
   "execution_count": null,
   "id": "82a0e71b-253a-4715-a820-56a190ed5f50",
   "metadata": {},
   "outputs": [],
   "source": [
    "# test_loss: میزان خطا را نشان می‌دهد که مدل چقدر به پیش‌بینی درست نزدیک بوده است. مقدار کمتر خطا، نشان‌دهنده پیش‌بینی بهتر مدل است\n",
    "# test_accuracy: نشان می‌دهد چند درصد از پیش‌بینی‌ها توسط مدل درست بوده‌اند\n",
    "# test_f1: نمره F1 میانگینی از معیارهای دقت (precision) و یادآوری (recall) است و به ویژه برای مجموعه داده‌های نامتوازن کاربردی است\n",
    "# test_runtime: این اطلاعات نشان می‌دهد که فرآیند پیش‌بینی چقدر طول کشیده است و به بهینه‌سازی یا ارزیابی کارایی مدل کمک می‌کند\n",
    "# test_samples_per_second: این معیار نشان‌دهنده سرعت مدل در پردازش داده‌ها است و می‌تواند برای ارزیابی عملکرد پردازشی مدل مفید باشد\n",
    "# test_steps_per_second: این معیار نشان می‌دهد که مدل چقدر سریع در هر گام پیش می‌رود و می‌تواند به شناسایی محدودیت‌های سرعت پردازش و بهبود کارایی کمک کند"
   ]
  },
  {
   "cell_type": "code",
   "execution_count": 35,
   "id": "OraVKfDswMvU",
   "metadata": {
    "id": "OraVKfDswMvU"
   },
   "outputs": [],
   "source": [
    "# این کد مربوط به استخراج پیش‌بینی‌ها و برچسب‌های واقعی از خروجی مدل است و سپس آماده‌سازی آن‌ها برای مقایسه عملکرد مدل (مثلاً محاسبه دقت یا نمره F1)\n",
    "# این خط پیش‌بینی‌های مدل را از خروجی (preds_output.predictions) استخراج می‌کند و آن‌ها را به برچسب‌های پیش‌بینی‌شده تبدیل می‌کند\n",
    "# برای هر نمونه از داده‌ها، برچسب با بالاترین احتمال را انتخاب می‌کند. به عبارت دیگر، این عمل کلاس با بالاترین احتمال را به عنوان پیش‌بینی مدل برای هر نمونه انتخاب می‌کند\n",
    "y_pred = np.argmax(preds_output.predictions, axis=1)\n",
    "# این خط برای استخراج برچسب‌های واقعی(داده های تست) استفاده می‌شود که با پیش‌بینی‌های مدل مقایسه خواهند شد\n",
    "y_true = emotion_encoded['test'][:]['label']"
   ]
  },
  {
   "cell_type": "code",
   "execution_count": 36,
   "id": "-XqP8K4gwP6S",
   "metadata": {
    "colab": {
     "base_uri": "https://localhost:8080/"
    },
    "id": "-XqP8K4gwP6S",
    "outputId": "2aba5b6b-1a85-4bc7-a9d0-1b9035722c88"
   },
   "outputs": [
    {
     "name": "stdout",
     "output_type": "stream",
     "text": [
      "              precision    recall  f1-score   support\n",
      "\n",
      "           0       0.93      0.96      0.94       933\n",
      "           1       0.93      0.92      0.92      1072\n",
      "           2       0.82      0.78      0.80       261\n",
      "           3       0.89      0.91      0.90       432\n",
      "           4       0.88      0.87      0.88       387\n",
      "           5       0.89      0.76      0.82       115\n",
      "\n",
      "    accuracy                           0.91      3200\n",
      "   macro avg       0.89      0.87      0.88      3200\n",
      "weighted avg       0.91      0.91      0.91      3200\n",
      "\n"
     ]
    }
   ],
   "source": [
    "# این کد، گزارش جامعی از معیارهای ارزیابی مدل را روی داده‌های تست محاسبه و چاپ می‌کند\n",
    "# به منظور محاسبه و نمایش معیارهای ارزیابی مختلف برای طبقه‌بندی چندکلاسی استفاده می‌شود. این معیارها شامل دقت (precision)، یادآوری (recall)، و نمره F1 برای هر کلاس هستند.\n",
    "from sklearn.metrics import classification_report\n",
    "print(classification_report(y_true, y_pred))"
   ]
  },
  {
   "cell_type": "code",
   "execution_count": 37,
   "id": "ZL484HDwwUoq",
   "metadata": {
    "colab": {
     "base_uri": "https://localhost:8080/"
    },
    "id": "ZL484HDwwUoq",
    "outputId": "ff65ecc5-461e-4a38-e93e-f645e3f6c014"
   },
   "outputs": [
    {
     "data": {
      "text/plain": [
       "{'love': 2, 'anger': 3, 'joy': 1, 'sadness': 0, 'surprise': 5, 'fear': 4}"
      ]
     },
     "execution_count": 37,
     "metadata": {},
     "output_type": "execute_result"
    }
   ],
   "source": [
    "label2id"
   ]
  },
  {
   "cell_type": "code",
   "execution_count": 38,
   "id": "DyL91QZ9wZkU",
   "metadata": {
    "id": "DyL91QZ9wZkU"
   },
   "outputs": [],
   "source": [
    "# plot confusion matrix\n",
    "from sklearn.metrics import confusion_matrix\n"
   ]
  },
  {
   "cell_type": "code",
   "execution_count": 39,
   "id": "T_D5VcO3wkLT",
   "metadata": {
    "colab": {
     "base_uri": "https://localhost:8080/",
     "height": 465
    },
    "id": "T_D5VcO3wkLT",
    "outputId": "2d5cd6fa-15c9-4b33-a048-5f3e7d25f85d"
   },
   "outputs": [
    {
     "data": {
      "image/png": "[encoded data removed]",
      "text/plain": [
       "<Figure size 500x500 with 1 Axes>"
      ]
     },
     "metadata": {},
     "output_type": "display_data"
    }
   ],
   "source": [
    "# این خط، ماتریس درهم‌ریختگی را با استفاده از برچسب‌های واقعی و پیش‌بینی‌های مدل محاسبه می‌کند\n",
    "cm = confusion_matrix(y_true, y_pred)\n",
    "# تعیین اندازه شکل برای وضوح و نمایش بهتر ماتریس درهم‌ریختگی\n",
    "plt.figure(figsize=(5,5))\n",
    "# cm: داده‌های ماتریس درهم‌ریختگی که باید نمایش داده شود\n",
    "# annot=True: اعداد در هر خانه نمایش داده می‌شوند تا تعداد نمونه‌ها در هر خانه قابل مشاهده باشد\n",
    "# از اسامی کلاس‌ها (کلیدهای label2id) برای برچسب‌های محور x و y استفاده می‌شود تا نشان دهد هر ردیف و ستون متعلق به کدام کلاس است\n",
    "# fmt='d': فرمت اعداد در خانه‌ها را به اعداد صحیح (integer) تنظیم می‌کند\n",
    "# cbar=False: از نمایش نوار رنگی (color bar) جلوگیری می‌کند، زیرا ممکن است ضروری نباشد\n",
    "# cmap='Reds': رنگ‌بندی گرمایی را به طیف رنگ‌های قرمز تغییر می‌دهد. این طیف رنگ به وضوح اشتباهات مدل را نشان می‌دهد\n",
    "sns.heatmap(cm, annot=True, xticklabels=label2id.keys(), yticklabels=label2id.keys(), fmt='d', cbar=False, cmap='Reds')\n",
    "plt.ylabel(\"Actual\")\n",
    "plt.xlabel(\"Predicted\")\n",
    "plt.show()"
   ]
  },
  {
   "cell_type": "code",
   "execution_count": 40,
   "id": "Te3SfyR_ww2L",
   "metadata": {
    "colab": {
     "base_uri": "https://localhost:8080/",
     "height": 35
    },
    "id": "Te3SfyR_ww2L",
    "outputId": "b9be2c89-16ac-4367-9ad4-bb138a0d0b38"
   },
   "outputs": [
    {
     "data": {
      "application/vnd.google.colaboratory.intrinsic+json": {
       "type": "string"
      },
      "text/plain": [
       "'joy'"
      ]
     },
     "execution_count": 40,
     "metadata": {},
     "output_type": "execute_result"
    }
   ],
   "source": [
    "text = \"I am super happy today. I got it done. Finally!!\"\n",
    "\n",
    "# این کد یک تابع را تعریف می‌کند که یک متن ورودی را دریافت کرده، آن را رمزگذاری می‌کند، و با استفاده از مدل، پیش‌بینی می‌کند که متن به کدام دسته تعلق دارد. اجازه دهید هر خط را دقیقاً بررسی کنیم\n",
    "def get_prediction(text):\n",
    "    # برای آماده‌سازی داده ورودی جهت پیش‌بینی مدل، لازم است که متن به فرمت مورد نیاز مدل (به صورت توکن‌شده) تبدیل شود\n",
    "    # to(device): این بخش داده را به دستگاه مشخص‌شده (مثلاً GPU اگر در دسترس باشد) منتقل می‌کند\n",
    "    input_encoded = tokenizer(text, return_tensors='pt').to(device)\n",
    "    # برای جلوگیری از محاسبات غیرضروری و بهینه‌سازی حافظه است، زیرا در اینجا فقط پیش‌بینی انجام می‌شود و نیازی به محاسبه گرادیان‌ها برای یادگیری نیست\n",
    "    with torch.no_grad():\n",
    "    # مدل با دریافت داده‌های ورودی، احتمالات یا خروجی‌های خام مربوط به دسته‌های مختلف را برای متن ورودی برمی‌گرداند\n",
    "        outputs = model(**input_encoded)\n",
    "    # شامل احتمال‌های خام برای هر دسته هستند که برای تصمیم‌گیری نهایی مورد نیاز است\n",
    "    logits = outputs.logits\n",
    "    # این خط مشخص می‌کند که مدل کدام دسته را با بیشترین اطمینان پیش‌بینی کرده است\n",
    "    # اندکس (یا شماره) دسته‌ای را که بیشترین احتمال را در logits دارد، به دست می‌آورد و آن را در pred ذخیره می‌کند\n",
    "    # dim=1: بیشترین مقدار را در بعد 1 پیدا می‌کند و اندکس آن کلاس را برمی‌گرداند\n",
    "    # item(): اندکس پیش‌بینی‌شده را از قالب Tensor خارج می‌کند تا به شکل یک مقدار ساده باشد\n",
    "    # این خط مشخص می‌کند که مدل کدام دسته را با بیشترین اطمینان پیش‌بینی کرده است\n",
    "    pred = torch.argmax(logits, dim=1).item()\n",
    "    # id2label تبدیل شماره دسته (مثلاً 0، 1، ...) به نام دسته (مثلاً \"happy\"، \"sad\"، ...) را فراهم می‌کند، و در نتیجه، نتیجه‌ای قابل‌فهم برای انسان برمی‌گردد\n",
    "    return id2label[pred]\n",
    "\n",
    "get_prediction(text)"
   ]
  },
  {
   "cell_type": "code",
   "execution_count": 41,
   "id": "TXtoajwfw2la",
   "metadata": {
    "id": "TXtoajwfw2la"
   },
   "outputs": [],
   "source": [
    "trainer.save_model(\"bert-base-uncased-sentiment-model\")"
   ]
  },
  {
   "cell_type": "code",
   "execution_count": 42,
   "id": "ftN7hhikw5wy",
   "metadata": {
    "colab": {
     "base_uri": "https://localhost:8080/"
    },
    "id": "ftN7hhikw5wy",
    "outputId": "6e9b12d2-ee89-414f-c6bb-2f5a376bedbe"
   },
   "outputs": [
    {
     "name": "stderr",
     "output_type": "stream",
     "text": [
      "Hardware accelerator e.g. GPU is available in the environment, but no `device` argument is passed to the `Pipeline` object. Model will be on CPU.\n"
     ]
    },
    {
     "data": {
      "text/plain": [
       "[{'label': 'joy', 'score': 0.9622090458869934},\n",
       " {'label': 'joy', 'score': 0.8579554557800293},\n",
       " {'label': 'love', 'score': 0.5772160887718201},\n",
       " {'label': 'sadness', 'score': 0.9659565091133118}]"
      ]
     },
     "execution_count": 42,
     "metadata": {},
     "output_type": "execute_result"
    }
   ],
   "source": [
    "# این کد، یک مدل از پیش آموزش‌دیده ذخیره‌شده را برای طبقه‌بندی متن بارگذاری می‌کند و از آن برای پیش‌بینی دسته‌بندی احساس یا موضوع چند جمله استفاده می‌کند\n",
    "# یک ابزار ساده برای دسترسی به مدل‌های از پیش آموزش‌دیده است که می‌تواند انواع مختلفی از وظایف پردازش زبان طبیعی  مانند طبقه‌بندی، ترجمه، و استخراج ویژگی‌ها را با سهولت اجرا کند\n",
    "from transformers import pipeline\n",
    "# text-classification: این نوع وظیفه پردازش را مشخص می‌کند که در اینجا طبقه‌بندی متن است\n",
    "# model= 'bert-base-uncased-sentiment-model': مسیر مدل ذخیره‌شده را تعیین می‌کند تا همان مدل آموزش‌دیده‌ی ما بارگذاری و استفاده شود\n",
    "classifier = pipeline('text-classification', model= 'bert-base-uncased-sentiment-model')\n",
    "# این جملات به مدل داده می‌شوند تا مدل دسته‌بندی‌های مناسب (مثلاً احساسات مثبت، منفی یا خنثی) را برای هر جمله برگرداند\n",
    "classifier([text, 'hello, how are you?', \"love you\", \"i am feeling low\"])"
   ]
  }
 ],
 "metadata": {
  "accelerator": "GPU",
  "colab": {
   "gpuType": "T4",
   "provenance": []
  },
  "kernelspec": {
   "display_name": "Python 3 (ipykernel)",
   "language": "python",
   "name": "python3"
  },
  "language_info": {
   "codemirror_mode": {
    "name": "ipython",
    "version": 3
   },
   "file_extension": ".py",
   "mimetype": "text/x-python",
   "name": "python",
   "nbconvert_exporter": "python",
   "pygments_lexer": "ipython3",
   "version": "3.11.7"
  },
  "widgets": {
   "application/vnd.jupyter.widget-state+json": {
    "0119188d4dd54e66a986bbdd60004499": {
     "model_module": "@jupyter-widgets/controls",
     "model_module_version": "1.5.0",
     "model_name": "HTMLModel",
     "state": {
      "_dom_classes": [],
      "_model_module": "@jupyter-widgets/controls",
      "_model_module_version": "1.5.0",
      "_model_name": "HTMLModel",
      "_view_count": null,
      "_view_module": "@jupyter-widgets/controls",
      "_view_module_version": "1.5.0",
      "_view_name": "HTMLView",
      "description": "",
      "description_tooltip": null,
      "layout": "IPY_MODEL_10f4cf9247af4dddbb1e80dbed1066a6",
      "placeholder": "​",
      "style": "IPY_MODEL_4198b04529c34df88777ca19999577e4",
      "value": " 11200/11200 [00:01&lt;00:00, 7310.42 examples/s]"
     }
    },
    "10f4cf9247af4dddbb1e80dbed1066a6": {
     "model_module": "@jupyter-widgets/base",
     "model_module_version": "1.2.0",
     "model_name": "LayoutModel",
     "state": {
      "_model_module": "@jupyter-widgets/base",
      "_model_module_version": "1.2.0",
      "_model_name": "LayoutModel",
      "_view_count": null,
      "_view_module": "@jupyter-widgets/base",
      "_view_module_version": "1.2.0",
      "_view_name": "LayoutView",
      "align_content": null,
      "align_items": null,
      "align_self": null,
      "border": null,
      "bottom": null,
      "display": null,
      "flex": null,
      "flex_flow": null,
      "grid_area": null,
      "grid_auto_columns": null,
      "grid_auto_flow": null,
      "grid_auto_rows": null,
      "grid_column": null,
      "grid_gap": null,
      "grid_row": null,
      "grid_template_areas": null,
      "grid_template_columns": null,
      "grid_template_rows": null,
      "height": null,
      "justify_content": null,
      "justify_items": null,
      "left": null,
      "margin": null,
      "max_height": null,
      "max_width": null,
      "min_height": null,
      "min_width": null,
      "object_fit": null,
      "object_position": null,
      "order": null,
      "overflow": null,
      "overflow_x": null,
      "overflow_y": null,
      "padding": null,
      "right": null,
      "top": null,
      "visibility": null,
      "width": null
     }
    },
    "1601d836d71a470c9140b53ccd3567c1": {
     "model_module": "@jupyter-widgets/base",
     "model_module_version": "1.2.0",
     "model_name": "LayoutModel",
     "state": {
      "_model_module": "@jupyter-widgets/base",
      "_model_module_version": "1.2.0",
      "_model_name": "LayoutModel",
      "_view_count": null,
      "_view_module": "@jupyter-widgets/base",
      "_view_module_version": "1.2.0",
      "_view_name": "LayoutView",
      "align_content": null,
      "align_items": null,
      "align_self": null,
      "border": null,
      "bottom": null,
      "display": null,
      "flex": null,
      "flex_flow": null,
      "grid_area": null,
      "grid_auto_columns": null,
      "grid_auto_flow": null,
      "grid_auto_rows": null,
      "grid_column": null,
      "grid_gap": null,
      "grid_row": null,
      "grid_template_areas": null,
      "grid_template_columns": null,
      "grid_template_rows": null,
      "height": null,
      "justify_content": null,
      "justify_items": null,
      "left": null,
      "margin": null,
      "max_height": null,
      "max_width": null,
      "min_height": null,
      "min_width": null,
      "object_fit": null,
      "object_position": null,
      "order": null,
      "overflow": null,
      "overflow_x": null,
      "overflow_y": null,
      "padding": null,
      "right": null,
      "top": null,
      "visibility": null,
      "width": null
     }
    },
    "1b6c2f338a894032bccee9ebc09cdd4a": {
     "model_module": "@jupyter-widgets/controls",
     "model_module_version": "1.5.0",
     "model_name": "DescriptionStyleModel",
     "state": {
      "_model_module": "@jupyter-widgets/controls",
      "_model_module_version": "1.5.0",
      "_model_name": "DescriptionStyleModel",
      "_view_count": null,
      "_view_module": "@jupyter-widgets/base",
      "_view_module_version": "1.2.0",
      "_view_name": "StyleView",
      "description_width": ""
     }
    },
    "21169c4e5bb649dca0ab6a048d91ac00": {
     "model_module": "@jupyter-widgets/base",
     "model_module_version": "1.2.0",
     "model_name": "LayoutModel",
     "state": {
      "_model_module": "@jupyter-widgets/base",
      "_model_module_version": "1.2.0",
      "_model_name": "LayoutModel",
      "_view_count": null,
      "_view_module": "@jupyter-widgets/base",
      "_view_module_version": "1.2.0",
      "_view_name": "LayoutView",
      "align_content": null,
      "align_items": null,
      "align_self": null,
      "border": null,
      "bottom": null,
      "display": null,
      "flex": null,
      "flex_flow": null,
      "grid_area": null,
      "grid_auto_columns": null,
      "grid_auto_flow": null,
      "grid_auto_rows": null,
      "grid_column": null,
      "grid_gap": null,
      "grid_row": null,
      "grid_template_areas": null,
      "grid_template_columns": null,
      "grid_template_rows": null,
      "height": null,
      "justify_content": null,
      "justify_items": null,
      "left": null,
      "margin": null,
      "max_height": null,
      "max_width": null,
      "min_height": null,
      "min_width": null,
      "object_fit": null,
      "object_position": null,
      "order": null,
      "overflow": null,
      "overflow_x": null,
      "overflow_y": null,
      "padding": null,
      "right": null,
      "top": null,
      "visibility": null,
      "width": null
     }
    },
    "2301ddf9e5444a768276352e1d1075f3": {
     "model_module": "@jupyter-widgets/base",
     "model_module_version": "1.2.0",
     "model_name": "LayoutModel",
     "state": {
      "_model_module": "@jupyter-widgets/base",
      "_model_module_version": "1.2.0",
      "_model_name": "LayoutModel",
      "_view_count": null,
      "_view_module": "@jupyter-widgets/base",
      "_view_module_version": "1.2.0",
      "_view_name": "LayoutView",
      "align_content": null,
      "align_items": null,
      "align_self": null,
      "border": null,
      "bottom": null,
      "display": null,
      "flex": null,
      "flex_flow": null,
      "grid_area": null,
      "grid_auto_columns": null,
      "grid_auto_flow": null,
      "grid_auto_rows": null,
      "grid_column": null,
      "grid_gap": null,
      "grid_row": null,
      "grid_template_areas": null,
      "grid_template_columns": null,
      "grid_template_rows": null,
      "height": null,
      "justify_content": null,
      "justify_items": null,
      "left": null,
      "margin": null,
      "max_height": null,
      "max_width": null,
      "min_height": null,
      "min_width": null,
      "object_fit": null,
      "object_position": null,
      "order": null,
      "overflow": null,
      "overflow_x": null,
      "overflow_y": null,
      "padding": null,
      "right": null,
      "top": null,
      "visibility": null,
      "width": null
     }
    },
    "31f256da770841898b56f4e68acf0480": {
     "model_module": "@jupyter-widgets/controls",
     "model_module_version": "1.5.0",
     "model_name": "DescriptionStyleModel",
     "state": {
      "_model_module": "@jupyter-widgets/controls",
      "_model_module_version": "1.5.0",
      "_model_name": "DescriptionStyleModel",
      "_view_count": null,
      "_view_module": "@jupyter-widgets/base",
      "_view_module_version": "1.2.0",
      "_view_name": "StyleView",
      "description_width": ""
     }
    },
    "36e358d61fb8455cb6fe65dd5ae54372": {
     "model_module": "@jupyter-widgets/controls",
     "model_module_version": "1.5.0",
     "model_name": "ProgressStyleModel",
     "state": {
      "_model_module": "@jupyter-widgets/controls",
      "_model_module_version": "1.5.0",
      "_model_name": "ProgressStyleModel",
      "_view_count": null,
      "_view_module": "@jupyter-widgets/base",
      "_view_module_version": "1.2.0",
      "_view_name": "StyleView",
      "bar_color": null,
      "description_width": ""
     }
    },
    "395ea2838fb348b3b01dea113ad11c51": {
     "model_module": "@jupyter-widgets/controls",
     "model_module_version": "1.5.0",
     "model_name": "DescriptionStyleModel",
     "state": {
      "_model_module": "@jupyter-widgets/controls",
      "_model_module_version": "1.5.0",
      "_model_name": "DescriptionStyleModel",
      "_view_count": null,
      "_view_module": "@jupyter-widgets/base",
      "_view_module_version": "1.2.0",
      "_view_name": "StyleView",
      "description_width": ""
     }
    },
    "3b8a0e9d0c6348ceb50fa378bc1bad47": {
     "model_module": "@jupyter-widgets/base",
     "model_module_version": "1.2.0",
     "model_name": "LayoutModel",
     "state": {
      "_model_module": "@jupyter-widgets/base",
      "_model_module_version": "1.2.0",
      "_model_name": "LayoutModel",
      "_view_count": null,
      "_view_module": "@jupyter-widgets/base",
      "_view_module_version": "1.2.0",
      "_view_name": "LayoutView",
      "align_content": null,
      "align_items": null,
      "align_self": null,
      "border": null,
      "bottom": null,
      "display": null,
      "flex": null,
      "flex_flow": null,
      "grid_area": null,
      "grid_auto_columns": null,
      "grid_auto_flow": null,
      "grid_auto_rows": null,
      "grid_column": null,
      "grid_gap": null,
      "grid_row": null,
      "grid_template_areas": null,
      "grid_template_columns": null,
      "grid_template_rows": null,
      "height": null,
      "justify_content": null,
      "justify_items": null,
      "left": null,
      "margin": null,
      "max_height": null,
      "max_width": null,
      "min_height": null,
      "min_width": null,
      "object_fit": null,
      "object_position": null,
      "order": null,
      "overflow": null,
      "overflow_x": null,
      "overflow_y": null,
      "padding": null,
      "right": null,
      "top": null,
      "visibility": null,
      "width": null
     }
    },
    "3d305e5fed8f46f4a546b1023de45268": {
     "model_module": "@jupyter-widgets/controls",
     "model_module_version": "1.5.0",
     "model_name": "ProgressStyleModel",
     "state": {
      "_model_module": "@jupyter-widgets/controls",
      "_model_module_version": "1.5.0",
      "_model_name": "ProgressStyleModel",
      "_view_count": null,
      "_view_module": "@jupyter-widgets/base",
      "_view_module_version": "1.2.0",
      "_view_name": "StyleView",
      "bar_color": null,
      "description_width": ""
     }
    },
    "4198b04529c34df88777ca19999577e4": {
     "model_module": "@jupyter-widgets/controls",
     "model_module_version": "1.5.0",
     "model_name": "DescriptionStyleModel",
     "state": {
      "_model_module": "@jupyter-widgets/controls",
      "_model_module_version": "1.5.0",
      "_model_name": "DescriptionStyleModel",
      "_view_count": null,
      "_view_module": "@jupyter-widgets/base",
      "_view_module_version": "1.2.0",
      "_view_name": "StyleView",
      "description_width": ""
     }
    },
    "429a29c094d84251bd1955ecb9783f4b": {
     "model_module": "@jupyter-widgets/base",
     "model_module_version": "1.2.0",
     "model_name": "LayoutModel",
     "state": {
      "_model_module": "@jupyter-widgets/base",
      "_model_module_version": "1.2.0",
      "_model_name": "LayoutModel",
      "_view_count": null,
      "_view_module": "@jupyter-widgets/base",
      "_view_module_version": "1.2.0",
      "_view_name": "LayoutView",
      "align_content": null,
      "align_items": null,
      "align_self": null,
      "border": null,
      "bottom": null,
      "display": null,
      "flex": null,
      "flex_flow": null,
      "grid_area": null,
      "grid_auto_columns": null,
      "grid_auto_flow": null,
      "grid_auto_rows": null,
      "grid_column": null,
      "grid_gap": null,
      "grid_row": null,
      "grid_template_areas": null,
      "grid_template_columns": null,
      "grid_template_rows": null,
      "height": null,
      "justify_content": null,
      "justify_items": null,
      "left": null,
      "margin": null,
      "max_height": null,
      "max_width": null,
      "min_height": null,
      "min_width": null,
      "object_fit": null,
      "object_position": null,
      "order": null,
      "overflow": null,
      "overflow_x": null,
      "overflow_y": null,
      "padding": null,
      "right": null,
      "top": null,
      "visibility": null,
      "width": null
     }
    },
    "42e8b631c5bf417a83f5b6d1d4c7ee65": {
     "model_module": "@jupyter-widgets/base",
     "model_module_version": "1.2.0",
     "model_name": "LayoutModel",
     "state": {
      "_model_module": "@jupyter-widgets/base",
      "_model_module_version": "1.2.0",
      "_model_name": "LayoutModel",
      "_view_count": null,
      "_view_module": "@jupyter-widgets/base",
      "_view_module_version": "1.2.0",
      "_view_name": "LayoutView",
      "align_content": null,
      "align_items": null,
      "align_self": null,
      "border": null,
      "bottom": null,
      "display": null,
      "flex": null,
      "flex_flow": null,
      "grid_area": null,
      "grid_auto_columns": null,
      "grid_auto_flow": null,
      "grid_auto_rows": null,
      "grid_column": null,
      "grid_gap": null,
      "grid_row": null,
      "grid_template_areas": null,
      "grid_template_columns": null,
      "grid_template_rows": null,
      "height": null,
      "justify_content": null,
      "justify_items": null,
      "left": null,
      "margin": null,
      "max_height": null,
      "max_width": null,
      "min_height": null,
      "min_width": null,
      "object_fit": null,
      "object_position": null,
      "order": null,
      "overflow": null,
      "overflow_x": null,
      "overflow_y": null,
      "padding": null,
      "right": null,
      "top": null,
      "visibility": null,
      "width": null
     }
    },
    "435558b97f584eb9b162dff9bee684aa": {
     "model_module": "@jupyter-widgets/controls",
     "model_module_version": "1.5.0",
     "model_name": "ProgressStyleModel",
     "state": {
      "_model_module": "@jupyter-widgets/controls",
      "_model_module_version": "1.5.0",
      "_model_name": "ProgressStyleModel",
      "_view_count": null,
      "_view_module": "@jupyter-widgets/base",
      "_view_module_version": "1.2.0",
      "_view_name": "StyleView",
      "bar_color": null,
      "description_width": ""
     }
    },
    "497729fc20434c11adbc19d2846a6988": {
     "model_module": "@jupyter-widgets/controls",
     "model_module_version": "1.5.0",
     "model_name": "FloatProgressModel",
     "state": {
      "_dom_classes": [],
      "_model_module": "@jupyter-widgets/controls",
      "_model_module_version": "1.5.0",
      "_model_name": "FloatProgressModel",
      "_view_count": null,
      "_view_module": "@jupyter-widgets/controls",
      "_view_module_version": "1.5.0",
      "_view_name": "ProgressView",
      "bar_style": "success",
      "description": "",
      "description_tooltip": null,
      "layout": "IPY_MODEL_2301ddf9e5444a768276352e1d1075f3",
      "max": 3200,
      "min": 0,
      "orientation": "horizontal",
      "style": "IPY_MODEL_3d305e5fed8f46f4a546b1023de45268",
      "value": 3200
     }
    },
    "4f82718a2e9a46a0a1eb598c042be268": {
     "model_module": "@jupyter-widgets/controls",
     "model_module_version": "1.5.0",
     "model_name": "DescriptionStyleModel",
     "state": {
      "_model_module": "@jupyter-widgets/controls",
      "_model_module_version": "1.5.0",
      "_model_name": "DescriptionStyleModel",
      "_view_count": null,
      "_view_module": "@jupyter-widgets/base",
      "_view_module_version": "1.2.0",
      "_view_name": "StyleView",
      "description_width": ""
     }
    },
    "559085f1d519458ead669a5dce225ee4": {
     "model_module": "@jupyter-widgets/controls",
     "model_module_version": "1.5.0",
     "model_name": "FloatProgressModel",
     "state": {
      "_dom_classes": [],
      "_model_module": "@jupyter-widgets/controls",
      "_model_module_version": "1.5.0",
      "_model_name": "FloatProgressModel",
      "_view_count": null,
      "_view_module": "@jupyter-widgets/controls",
      "_view_module_version": "1.5.0",
      "_view_name": "ProgressView",
      "bar_style": "success",
      "description": "",
      "description_tooltip": null,
      "layout": "IPY_MODEL_42e8b631c5bf417a83f5b6d1d4c7ee65",
      "max": 1600,
      "min": 0,
      "orientation": "horizontal",
      "style": "IPY_MODEL_435558b97f584eb9b162dff9bee684aa",
      "value": 1600
     }
    },
    "55a94ff4e7894e0b81f4ae58e46a4938": {
     "model_module": "@jupyter-widgets/controls",
     "model_module_version": "1.5.0",
     "model_name": "HTMLModel",
     "state": {
      "_dom_classes": [],
      "_model_module": "@jupyter-widgets/controls",
      "_model_module_version": "1.5.0",
      "_model_name": "HTMLModel",
      "_view_count": null,
      "_view_module": "@jupyter-widgets/controls",
      "_view_module_version": "1.5.0",
      "_view_name": "HTMLView",
      "description": "",
      "description_tooltip": null,
      "layout": "IPY_MODEL_7645041fb7dd4081a4868e2b9d75ac62",
      "placeholder": "​",
      "style": "IPY_MODEL_4f82718a2e9a46a0a1eb598c042be268",
      "value": "Map: 100%"
     }
    },
    "6a18625ad7bb4e12aad1798c0f3a04a8": {
     "model_module": "@jupyter-widgets/controls",
     "model_module_version": "1.5.0",
     "model_name": "HTMLModel",
     "state": {
      "_dom_classes": [],
      "_model_module": "@jupyter-widgets/controls",
      "_model_module_version": "1.5.0",
      "_model_name": "HTMLModel",
      "_view_count": null,
      "_view_module": "@jupyter-widgets/controls",
      "_view_module_version": "1.5.0",
      "_view_name": "HTMLView",
      "description": "",
      "description_tooltip": null,
      "layout": "IPY_MODEL_1601d836d71a470c9140b53ccd3567c1",
      "placeholder": "​",
      "style": "IPY_MODEL_395ea2838fb348b3b01dea113ad11c51",
      "value": " 3200/3200 [00:00&lt;00:00, 9135.63 examples/s]"
     }
    },
    "70e72241c0ca4d449ce3ca474dd5cee9": {
     "model_module": "@jupyter-widgets/controls",
     "model_module_version": "1.5.0",
     "model_name": "HTMLModel",
     "state": {
      "_dom_classes": [],
      "_model_module": "@jupyter-widgets/controls",
      "_model_module_version": "1.5.0",
      "_model_name": "HTMLModel",
      "_view_count": null,
      "_view_module": "@jupyter-widgets/controls",
      "_view_module_version": "1.5.0",
      "_view_name": "HTMLView",
      "description": "",
      "description_tooltip": null,
      "layout": "IPY_MODEL_d90b969f0d1c4e049a792497f5bde575",
      "placeholder": "​",
      "style": "IPY_MODEL_1b6c2f338a894032bccee9ebc09cdd4a",
      "value": " 1600/1600 [00:00&lt;00:00, 7631.11 examples/s]"
     }
    },
    "7645041fb7dd4081a4868e2b9d75ac62": {
     "model_module": "@jupyter-widgets/base",
     "model_module_version": "1.2.0",
     "model_name": "LayoutModel",
     "state": {
      "_model_module": "@jupyter-widgets/base",
      "_model_module_version": "1.2.0",
      "_model_name": "LayoutModel",
      "_view_count": null,
      "_view_module": "@jupyter-widgets/base",
      "_view_module_version": "1.2.0",
      "_view_name": "LayoutView",
      "align_content": null,
      "align_items": null,
      "align_self": null,
      "border": null,
      "bottom": null,
      "display": null,
      "flex": null,
      "flex_flow": null,
      "grid_area": null,
      "grid_auto_columns": null,
      "grid_auto_flow": null,
      "grid_auto_rows": null,
      "grid_column": null,
      "grid_gap": null,
      "grid_row": null,
      "grid_template_areas": null,
      "grid_template_columns": null,
      "grid_template_rows": null,
      "height": null,
      "justify_content": null,
      "justify_items": null,
      "left": null,
      "margin": null,
      "max_height": null,
      "max_width": null,
      "min_height": null,
      "min_width": null,
      "object_fit": null,
      "object_position": null,
      "order": null,
      "overflow": null,
      "overflow_x": null,
      "overflow_y": null,
      "padding": null,
      "right": null,
      "top": null,
      "visibility": null,
      "width": null
     }
    },
    "7b49e58bc6264f45b40315039d5a0de9": {
     "model_module": "@jupyter-widgets/controls",
     "model_module_version": "1.5.0",
     "model_name": "DescriptionStyleModel",
     "state": {
      "_model_module": "@jupyter-widgets/controls",
      "_model_module_version": "1.5.0",
      "_model_name": "DescriptionStyleModel",
      "_view_count": null,
      "_view_module": "@jupyter-widgets/base",
      "_view_module_version": "1.2.0",
      "_view_name": "StyleView",
      "description_width": ""
     }
    },
    "9d19cdb32f704344ba145ef405c68314": {
     "model_module": "@jupyter-widgets/base",
     "model_module_version": "1.2.0",
     "model_name": "LayoutModel",
     "state": {
      "_model_module": "@jupyter-widgets/base",
      "_model_module_version": "1.2.0",
      "_model_name": "LayoutModel",
      "_view_count": null,
      "_view_module": "@jupyter-widgets/base",
      "_view_module_version": "1.2.0",
      "_view_name": "LayoutView",
      "align_content": null,
      "align_items": null,
      "align_self": null,
      "border": null,
      "bottom": null,
      "display": null,
      "flex": null,
      "flex_flow": null,
      "grid_area": null,
      "grid_auto_columns": null,
      "grid_auto_flow": null,
      "grid_auto_rows": null,
      "grid_column": null,
      "grid_gap": null,
      "grid_row": null,
      "grid_template_areas": null,
      "grid_template_columns": null,
      "grid_template_rows": null,
      "height": null,
      "justify_content": null,
      "justify_items": null,
      "left": null,
      "margin": null,
      "max_height": null,
      "max_width": null,
      "min_height": null,
      "min_width": null,
      "object_fit": null,
      "object_position": null,
      "order": null,
      "overflow": null,
      "overflow_x": null,
      "overflow_y": null,
      "padding": null,
      "right": null,
      "top": null,
      "visibility": null,
      "width": null
     }
    },
    "a997b4703e4c4d25a6df25f883f3e575": {
     "model_module": "@jupyter-widgets/controls",
     "model_module_version": "1.5.0",
     "model_name": "HTMLModel",
     "state": {
      "_dom_classes": [],
      "_model_module": "@jupyter-widgets/controls",
      "_model_module_version": "1.5.0",
      "_model_name": "HTMLModel",
      "_view_count": null,
      "_view_module": "@jupyter-widgets/controls",
      "_view_module_version": "1.5.0",
      "_view_name": "HTMLView",
      "description": "",
      "description_tooltip": null,
      "layout": "IPY_MODEL_21169c4e5bb649dca0ab6a048d91ac00",
      "placeholder": "​",
      "style": "IPY_MODEL_31f256da770841898b56f4e68acf0480",
      "value": "Map: 100%"
     }
    },
    "b1cbc3fcc4354b2d98496968c849968f": {
     "model_module": "@jupyter-widgets/controls",
     "model_module_version": "1.5.0",
     "model_name": "HBoxModel",
     "state": {
      "_dom_classes": [],
      "_model_module": "@jupyter-widgets/controls",
      "_model_module_version": "1.5.0",
      "_model_name": "HBoxModel",
      "_view_count": null,
      "_view_module": "@jupyter-widgets/controls",
      "_view_module_version": "1.5.0",
      "_view_name": "HBoxView",
      "box_style": "",
      "children": [
       "IPY_MODEL_c0d661b202f24d2e901473302eca3a50",
       "IPY_MODEL_ecb2e0f8645c4c5a88fe9b6bb2b07816",
       "IPY_MODEL_0119188d4dd54e66a986bbdd60004499"
      ],
      "layout": "IPY_MODEL_f694efb42946486ab83b06cf243ce5a4"
     }
    },
    "c0d661b202f24d2e901473302eca3a50": {
     "model_module": "@jupyter-widgets/controls",
     "model_module_version": "1.5.0",
     "model_name": "HTMLModel",
     "state": {
      "_dom_classes": [],
      "_model_module": "@jupyter-widgets/controls",
      "_model_module_version": "1.5.0",
      "_model_name": "HTMLModel",
      "_view_count": null,
      "_view_module": "@jupyter-widgets/controls",
      "_view_module_version": "1.5.0",
      "_view_name": "HTMLView",
      "description": "",
      "description_tooltip": null,
      "layout": "IPY_MODEL_3b8a0e9d0c6348ceb50fa378bc1bad47",
      "placeholder": "​",
      "style": "IPY_MODEL_7b49e58bc6264f45b40315039d5a0de9",
      "value": "Map: 100%"
     }
    },
    "d90b969f0d1c4e049a792497f5bde575": {
     "model_module": "@jupyter-widgets/base",
     "model_module_version": "1.2.0",
     "model_name": "LayoutModel",
     "state": {
      "_model_module": "@jupyter-widgets/base",
      "_model_module_version": "1.2.0",
      "_model_name": "LayoutModel",
      "_view_count": null,
      "_view_module": "@jupyter-widgets/base",
      "_view_module_version": "1.2.0",
      "_view_name": "LayoutView",
      "align_content": null,
      "align_items": null,
      "align_self": null,
      "border": null,
      "bottom": null,
      "display": null,
      "flex": null,
      "flex_flow": null,
      "grid_area": null,
      "grid_auto_columns": null,
      "grid_auto_flow": null,
      "grid_auto_rows": null,
      "grid_column": null,
      "grid_gap": null,
      "grid_row": null,
      "grid_template_areas": null,
      "grid_template_columns": null,
      "grid_template_rows": null,
      "height": null,
      "justify_content": null,
      "justify_items": null,
      "left": null,
      "margin": null,
      "max_height": null,
      "max_width": null,
      "min_height": null,
      "min_width": null,
      "object_fit": null,
      "object_position": null,
      "order": null,
      "overflow": null,
      "overflow_x": null,
      "overflow_y": null,
      "padding": null,
      "right": null,
      "top": null,
      "visibility": null,
      "width": null
     }
    },
    "e1c42ba7f0ed4feb8e93ba42524e1422": {
     "model_module": "@jupyter-widgets/base",
     "model_module_version": "1.2.0",
     "model_name": "LayoutModel",
     "state": {
      "_model_module": "@jupyter-widgets/base",
      "_model_module_version": "1.2.0",
      "_model_name": "LayoutModel",
      "_view_count": null,
      "_view_module": "@jupyter-widgets/base",
      "_view_module_version": "1.2.0",
      "_view_name": "LayoutView",
      "align_content": null,
      "align_items": null,
      "align_self": null,
      "border": null,
      "bottom": null,
      "display": null,
      "flex": null,
      "flex_flow": null,
      "grid_area": null,
      "grid_auto_columns": null,
      "grid_auto_flow": null,
      "grid_auto_rows": null,
      "grid_column": null,
      "grid_gap": null,
      "grid_row": null,
      "grid_template_areas": null,
      "grid_template_columns": null,
      "grid_template_rows": null,
      "height": null,
      "justify_content": null,
      "justify_items": null,
      "left": null,
      "margin": null,
      "max_height": null,
      "max_width": null,
      "min_height": null,
      "min_width": null,
      "object_fit": null,
      "object_position": null,
      "order": null,
      "overflow": null,
      "overflow_x": null,
      "overflow_y": null,
      "padding": null,
      "right": null,
      "top": null,
      "visibility": null,
      "width": null
     }
    },
    "ecb2e0f8645c4c5a88fe9b6bb2b07816": {
     "model_module": "@jupyter-widgets/controls",
     "model_module_version": "1.5.0",
     "model_name": "FloatProgressModel",
     "state": {
      "_dom_classes": [],
      "_model_module": "@jupyter-widgets/controls",
      "_model_module_version": "1.5.0",
      "_model_name": "FloatProgressModel",
      "_view_count": null,
      "_view_module": "@jupyter-widgets/controls",
      "_view_module_version": "1.5.0",
      "_view_name": "ProgressView",
      "bar_style": "success",
      "description": "",
      "description_tooltip": null,
      "layout": "IPY_MODEL_e1c42ba7f0ed4feb8e93ba42524e1422",
      "max": 11200,
      "min": 0,
      "orientation": "horizontal",
      "style": "IPY_MODEL_36e358d61fb8455cb6fe65dd5ae54372",
      "value": 11200
     }
    },
    "f311a7f9b7484cb5b4d4a20535f246d7": {
     "model_module": "@jupyter-widgets/controls",
     "model_module_version": "1.5.0",
     "model_name": "HBoxModel",
     "state": {
      "_dom_classes": [],
      "_model_module": "@jupyter-widgets/controls",
      "_model_module_version": "1.5.0",
      "_model_name": "HBoxModel",
      "_view_count": null,
      "_view_module": "@jupyter-widgets/controls",
      "_view_module_version": "1.5.0",
      "_view_name": "HBoxView",
      "box_style": "",
      "children": [
       "IPY_MODEL_55a94ff4e7894e0b81f4ae58e46a4938",
       "IPY_MODEL_497729fc20434c11adbc19d2846a6988",
       "IPY_MODEL_6a18625ad7bb4e12aad1798c0f3a04a8"
      ],
      "layout": "IPY_MODEL_429a29c094d84251bd1955ecb9783f4b"
     }
    },
    "f694efb42946486ab83b06cf243ce5a4": {
     "model_module": "@jupyter-widgets/base",
     "model_module_version": "1.2.0",
     "model_name": "LayoutModel",
     "state": {
      "_model_module": "@jupyter-widgets/base",
      "_model_module_version": "1.2.0",
      "_model_name": "LayoutModel",
      "_view_count": null,
      "_view_module": "@jupyter-widgets/base",
      "_view_module_version": "1.2.0",
      "_view_name": "LayoutView",
      "align_content": null,
      "align_items": null,
      "align_self": null,
      "border": null,
      "bottom": null,
      "display": null,
      "flex": null,
      "flex_flow": null,
      "grid_area": null,
      "grid_auto_columns": null,
      "grid_auto_flow": null,
      "grid_auto_rows": null,
      "grid_column": null,
      "grid_gap": null,
      "grid_row": null,
      "grid_template_areas": null,
      "grid_template_columns": null,
      "grid_template_rows": null,
      "height": null,
      "justify_content": null,
      "justify_items": null,
      "left": null,
      "margin": null,
      "max_height": null,
      "max_width": null,
      "min_height": null,
      "min_width": null,
      "object_fit": null,
      "object_position": null,
      "order": null,
      "overflow": null,
      "overflow_x": null,
      "overflow_y": null,
      "padding": null,
      "right": null,
      "top": null,
      "visibility": null,
      "width": null
     }
    },
    "f814a6eae88b44138d8e9af8e3effd8a": {
     "model_module": "@jupyter-widgets/controls",
     "model_module_version": "1.5.0",
     "model_name": "HBoxModel",
     "state": {
      "_dom_classes": [],
      "_model_module": "@jupyter-widgets/controls",
      "_model_module_version": "1.5.0",
      "_model_name": "HBoxModel",
      "_view_count": null,
      "_view_module": "@jupyter-widgets/controls",
      "_view_module_version": "1.5.0",
      "_view_name": "HBoxView",
      "box_style": "",
      "children": [
       "IPY_MODEL_a997b4703e4c4d25a6df25f883f3e575",
       "IPY_MODEL_559085f1d519458ead669a5dce225ee4",
       "IPY_MODEL_70e72241c0ca4d449ce3ca474dd5cee9"
      ],
      "layout": "IPY_MODEL_9d19cdb32f704344ba145ef405c68314"
     }
    }
   }
  }
 },
 "nbformat": 4,
 "nbformat_minor": 5
}
